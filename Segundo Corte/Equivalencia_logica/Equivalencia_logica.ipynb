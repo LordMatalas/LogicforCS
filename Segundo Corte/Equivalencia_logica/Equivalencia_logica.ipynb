{
 "cells": [
  {
   "cell_type": "markdown",
   "metadata": {},
   "source": [
    "<table>\n",
    "    <tr>\n",
    "        <td><img src=\"./img/Macc.png\" width=\"auto\"/></td>\n",
    "        <td>\n",
    "            <table><tr>\n",
    "            <h1 style=\"color:blue;text-align:center\">Lógica para Ciencias de la Computación</h1></td>\n",
    "            </tr></table>   \n",
    "        <td>&nbsp;</td>\n",
    "        <td>\n",
    "            <table><tr>\n",
    "            <tp><p style=\"font-size:150%;text-align:center\">Taller</p></tp>\n",
    "            <tp><p style=\"font-size:150%;text-align:center\">Equivalencia lógica</p></tp>\n",
    "            </tr></table>\n",
    "        </td>\n",
    "    </tr>\n",
    "</table>\n",
    "\n",
    "---"
   ]
  },
  {
   "cell_type": "markdown",
   "metadata": {},
   "source": [
    "# Objetivos <a class=\"anchor\" id=\"inicio\"></a>\n",
    "\n",
    "Una vez tenemos nuestra implementación de las fórmulas de la lógica proposicional como clases en Python, podemos comenzar a hacer pruebas interesantes. En este notebook vamos a determinar si dos fórmulas son equivalentes."
   ]
  },
  {
   "cell_type": "markdown",
   "metadata": {},
   "source": [
    "# Secciones\n",
    "\n",
    "1. [Equivalencia lógica.](#eq)\n",
    "2. [Sustituciones.](#sus)\n",
    "3. [Froma normal conjuntiva.](#fnc)"
   ]
  },
  {
   "cell_type": "markdown",
   "metadata": {},
   "source": [
    "# Equivalencia lógica <a class=\"anchor\" id=\"eq\"></a>\n",
    "\n",
    "([Volver al inicio](#inicio))\n",
    "\n",
    "Sean $A$, $B$, fórmulas. La equivalencia entre $A$ y $B$ (denotada por $A\\equiv B$) se define de la siguiente manera:\n",
    "\n",
    "$$\n",
    "A\\equiv B \\mbox{ si, y solamente si, }A.valor(I)=B.valor(I)\\mbox{ para toda interpretación }I\n",
    "$$\n",
    "\n",
    "Observe que ya habíamos usado la equivalencia anteriormente. Hicimos uso de ella para encontrar cuál era la prioridad de las operaciones booleanas en Python. En este caso revisamos las tablas de verdad de ambas variables para ver si las columnas eran todas iguales.\n",
    "\n",
    "Vamos a operacionalizar esto en una función `chequear_equivalencia` en Python, la cual toma dos fórmulas (como árboles) como argumento. La función debe recorrer cada una de las interpretaciones posibles, y detener si no tienen el mismo valor. Si recorre todas sin detenerse, entonces son equivalentes.\n",
    "\n",
    "Observe que tenemos acceso al archivo `Logica.py`, en el cual están implementadas las fórmulas y la función `inorder_to_tree`:"
   ]
  },
  {
   "cell_type": "code",
   "execution_count": 2,
   "metadata": {},
   "outputs": [],
   "source": [
    "from Logica import *"
   ]
  },
  {
   "cell_type": "code",
   "execution_count": 3,
   "metadata": {},
   "outputs": [
    {
     "data": {
      "text/plain": [
       "True"
      ]
     },
     "execution_count": 3,
     "metadata": {},
     "output_type": "execute_result"
    }
   ],
   "source": [
    "A = inorder_to_tree('--p')\n",
    "I = {'p':True}\n",
    "A.valor(I)"
   ]
  },
  {
   "cell_type": "markdown",
   "metadata": {},
   "source": [
    "**Ejercicio 1:** \n",
    "\n",
    "Implemente la función `chequear_equivalencia`.\n",
    "\n",
    "Verifique su implementación para corroborar las siguientes equivalencias:\n",
    "\n",
    "* $(p\\to q)\\equiv(\\neg p\\vee q)$\n",
    "* $\\neg(p\\wedge q)\\equiv (\\neg p\\vee\\neg q)$\n",
    "* $\\neg(p\\vee q)\\equiv (\\neg p\\wedge\\neg q)$\n",
    "* $\\bigl(p\\vee(q\\wedge r)\\bigr)\\equiv\\bigl((p\\vee q)\\wedge(p\\vee r)\\bigr)$\n",
    "* $\\bigl(p\\wedge(q\\vee r)\\bigr)\\equiv\\bigl((p\\wedge q)\\vee(p\\wedge r)\\bigr)$\n",
    "\n",
    "Corrobore también que las siguientes NO son equivalencias:\n",
    "\n",
    "* $(p\\to q)\\not\\equiv(q\\to p)$\n",
    "* $\\bigl(p\\vee(q\\wedge r)\\bigr)\\not\\equiv\\bigl((p\\wedge q)\\vee(p\\wedge r)\\bigr)$"
   ]
  },
  {
   "cell_type": "code",
   "execution_count": 4,
   "metadata": {},
   "outputs": [],
   "source": [
    "def crear_interpretaciones (n): # número de letras proposicionales\n",
    "    if n == 1:\n",
    "        return [[True], [False]]\n",
    "    else:\n",
    "        I = crear_interpretaciones(n-1)\n",
    "        It = [] # Lista de interpretaciones True\n",
    "        If = [] # Lista de interpretaciones Falsas\n",
    "        for i in I:\n",
    "            It.append([True] + i )\n",
    "            If.append([False] + i)\n",
    "        return It + If\n",
    "    \n",
    "def chequear_equivalencia(A:Formula, B: Formula):\n",
    "    f = inorder_to_tree('(' + str(A) + '=' + str(B) + ')')\n",
    "    letras = list(f.letras())\n",
    "    n = len(letras)\n",
    "    set_I = crear_interpretaciones(n)\n",
    "    for i in set_I:\n",
    "         I = {}\n",
    "         for k in range(n):\n",
    "              I[letras[k] ]= i[k]\n",
    "              print(I)\n",
    "         if (A.valor(I) != B.valor(I)):\n",
    "          return False\n",
    "    return True\n",
    "\n",
    "def crear_interpretaciones_iter(n):\n",
    "    p = 2 **n \n",
    "    I = []\n",
    "    for j in range(p):\n",
    "        I.append([True]*n)\n",
    "        k = p / 2\n",
    "        for i in range(n):\n",
    "            boolean = True\n",
    "            I[i][j] = boolean\n",
    "            if (i + 1) % k == 0:\n",
    "                boolean = not boolean\n",
    "        k = k / 2\n",
    "    return (k)\n"
   ]
  },
  {
   "cell_type": "code",
   "execution_count": 5,
   "metadata": {},
   "outputs": [
    {
     "name": "stdout",
     "output_type": "stream",
     "text": [
      "{'q': True}\n",
      "{'q': True, 'p': True}\n",
      "{'q': True, 'p': True, 'r': True}\n",
      "{'q': True}\n",
      "{'q': True, 'p': True}\n",
      "{'q': True, 'p': True, 'r': False}\n",
      "{'q': True}\n",
      "{'q': True, 'p': False}\n",
      "{'q': True, 'p': False, 'r': True}\n",
      "{'q': True}\n",
      "{'q': True, 'p': False}\n",
      "{'q': True, 'p': False, 'r': False}\n",
      "{'q': False}\n",
      "{'q': False, 'p': True}\n",
      "{'q': False, 'p': True, 'r': True}\n",
      "{'q': False}\n",
      "{'q': False, 'p': True}\n",
      "{'q': False, 'p': True, 'r': False}\n",
      "{'q': False}\n",
      "{'q': False, 'p': False}\n",
      "{'q': False, 'p': False, 'r': True}\n",
      "{'q': False}\n",
      "{'q': False, 'p': False}\n",
      "{'q': False, 'p': False, 'r': False}\n"
     ]
    },
    {
     "data": {
      "text/plain": [
       "True"
      ]
     },
     "execution_count": 5,
     "metadata": {},
     "output_type": "execute_result"
    }
   ],
   "source": [
    "chequear_equivalencia(inorder_to_tree('(p>(q>r))'), inorder_to_tree('((pYq)>r)'))"
   ]
  },
  {
   "cell_type": "markdown",
   "metadata": {},
   "source": [
    "---"
   ]
  },
  {
   "cell_type": "markdown",
   "metadata": {},
   "source": [
    "# Sustituciones <a class=\"anchor\" id=\"sus\"></a>\n",
    "\n",
    "([Volver al inicio](#inicio))\n",
    "\n",
    "Recordemos que el siguiente es el pseudocódigo de sustituir una subfórmula $A$ de $B$ por otra fórmula $A'$:\n",
    "\n",
    "`\n",
    "funcion sust(self, A, A'):\n",
    "    Si A no está en self.subforms()\n",
    "        retornar self\n",
    "    Si no, si A es self\n",
    "        retornar A'\n",
    "    Si no, si self es de tipo Negacion\n",
    "        retornar Negacion(self.subf.sust(A,A'))\n",
    "    Si no, si self es de tipo Binario\n",
    "        retornar Binario(self.conectivo, \n",
    "                         self.left.sust(A,A'), \n",
    "                         self.right.sust(A,A'))\n",
    "`"
   ]
  },
  {
   "cell_type": "markdown",
   "metadata": {},
   "source": [
    "**Ejercicio 2:**\n",
    "\n",
    "Implemente el método sust(A,A').\n",
    "\n",
    "**Nota:** No requiere implementar el método `subforms`, toda vez que este ya está implementado en la clase `Formula` de la librería `Logica`. Observe que dicho método `subforms` devuelve una lista de strings. Tenga esto en cuenta al momento de hacer las comparaciones requeridas por los dos primeros casos del método `sust`.\n"
   ]
  },
  {
   "cell_type": "code",
   "execution_count": 6,
   "metadata": {},
   "outputs": [],
   "source": [
    "def sust(self, a,b):\n",
    "    if a not in self.subforms():\n",
    "        return self\n",
    "    elif a == str(self):\n",
    "        return deepcopy(b)\n",
    "    elif type(self) == Negacion:\n",
    "        return Negacion(self.subf.sust(a,b))\n",
    "    elif type(self) == Binario:\n",
    "        return Binario(self.conectivo,self.left.sust(a,b),self.right.sust(a,b))\n",
    "\n",
    "\n",
    "setattr(Formula, \"sust\", sust)\n"
   ]
  },
  {
   "cell_type": "code",
   "execution_count": 7,
   "metadata": {},
   "outputs": [
    {
     "data": {
      "text/plain": [
       "['p', 'q', '(pYq)', '-(pYq)']"
      ]
     },
     "execution_count": 7,
     "metadata": {},
     "output_type": "execute_result"
    }
   ],
   "source": [
    "B = inorder_to_tree(\"-(pYq)\")\n",
    "B.subforms()"
   ]
  },
  {
   "cell_type": "markdown",
   "metadata": {},
   "source": [
    "Pruebe su código con el siguiente ejemplo. Debería obtener\n",
    "\n",
    "`\n",
    "Al reemplazar -(pYq) por s en (r>-(pYq))  se obtiene:\n",
    "(r>s)\n",
    "`"
   ]
  },
  {
   "cell_type": "code",
   "execution_count": 8,
   "metadata": {},
   "outputs": [
    {
     "name": "stdout",
     "output_type": "stream",
     "text": [
      "Al reemplazar -(pYq) por s en (r>-(pYq))  se obtiene:\n",
      "(r>-(pYq))\n"
     ]
    }
   ],
   "source": [
    "B = inorder_to_tree(\"(r>-(pYq))\")\n",
    "A = Letra('-(pYq)')\n",
    "C = Letra('s')\n",
    "D = B.sust(A,C)\n",
    "print(f'Al reemplazar {str(A)} por {str(C)} en {str(B)}  se obtiene:\\n{str(D)}')"
   ]
  },
  {
   "cell_type": "markdown",
   "metadata": {},
   "source": [
    "---"
   ]
  },
  {
   "cell_type": "markdown",
   "metadata": {},
   "source": [
    "# Forma Normal Conjuntiva <a class=\"anchor\" id=\"fnc\"></a>\n",
    "\n",
    "([Volver al inicio](#inicio))\n",
    "\n",
    "Procedimiento para transformar una fórmula arbitraria $A$ en una fórmula $A'$ en forma normal conjuntiva, tal que $A\\equiv A'$:\n",
    "\n",
    "1. Eliminar `$\\leftrightarrow$' y '$\\to$'.\n",
    "2. Eliminar dobles negaciones.\n",
    "3. Si $\\neg(B\\wedge C)\\in A.\\mbox{subform}()$, reemplazarla por $\\neg B\\vee\\neg C$.\n",
    "4. Si $\\neg(B\\vee C)\\in A.\\mbox{subform}()$, reemplazarla por $\\neg B\\wedge\\neg C$.\n",
    "5. Eliminar dobles negaciones.\n",
    "6. Si $B\\vee (C\\wedge D)\\in A.\\mbox{subform}()$, reemplazarla por $(B\\vee C)\\wedge (B\\vee D)$.\n"
   ]
  },
  {
   "cell_type": "code",
   "execution_count": 14,
   "metadata": {},
   "outputs": [],
   "source": [
    "from copy import deepcopy\n",
    "\n",
    "def eliminar_imp(self):\n",
    "    if type(self) == Letra:\n",
    "        return self\n",
    "    elif type(self) == Negacion:\n",
    "        return Negacion(self.subf.eliminar_imp())\n",
    "    elif type(self) == Binario:\n",
    "        if self.conectivo == '>':\n",
    "            return Binario('O',Negacion(self.left.eliminar_imp()),\n",
    "            self.right.eliminar_imp())\n",
    "        else:\n",
    "            return Binario(self.conectivo,\n",
    "                       self.left.eliminar_imp(),\n",
    "                       self.right.eliminar_imp()\n",
    "                      )     \n",
    "\n",
    "setattr(Formula,\"eliminar_imp\",eliminar_imp)\n",
    "\n",
    "def eliminar_doble_imp(self):\n",
    "    if type(self) == Letra:\n",
    "        return self\n",
    "    elif type(self) == Negacion:\n",
    "        return Negacion(self.subf.eliminar_doble_imp())\n",
    "    elif type(self) == Binario:\n",
    "        if self.conectivo == '=':\n",
    "            return Binario('Y',\n",
    "                           Binario('O', \n",
    "                               Negacion(self.left.eliminar_doble_imp()),\n",
    "                               self.right.eliminar_doble_imp(),\n",
    "                              ),\n",
    "                           Binario('O', \n",
    "                               Negacion(self.right.eliminar_doble_imp()),\n",
    "                               self.left.eliminar_doble_imp(),\n",
    "                              ))\n",
    "        else:\n",
    "            return Binario(self.conectivo,\n",
    "                       self.left.eliminar_doble_imp(),\n",
    "                       self.right.eliminar_doble_imp()\n",
    "                      )     \n",
    "\n",
    "setattr(Formula,\"eliminar_doble_imp\",eliminar_doble_imp)\n",
    "        \n",
    "def eliminar_doble_negacion(self):\n",
    "    if type(self) == Letra:\n",
    "        return self\n",
    "    elif type(self) == Negacion:\n",
    "        if type(self.subf) == Negacion:\n",
    "            return deepcopy(self.subf.subf.eliminar_doble_negacion())\n",
    "        else:\n",
    "            return Negacion(self.subf.eliminar_doble_negacion())\n",
    "    elif type(self) == Binario:\n",
    "        return Binario(self.conectivo,\n",
    "                       self.left.eliminar_doble_negacion(),\n",
    "                       self.right.eliminar_doble_negacion()) \n",
    "\n",
    "setattr(Formula,\"eliminar_doble_negacion\",eliminar_doble_negacion)\n",
    "\n",
    "def cambiar_de_morgan_y(self):\n",
    "    if type(self) == Letra:\n",
    "        return self\n",
    "    elif type(self) == Negacion:\n",
    "        if type(self.subf) == Binario:\n",
    "            if self.subf.conectivo == 'Y':\n",
    "                return Binario('O', \n",
    "                               Negacion(self.subf.left.cambiar_de_morgan_y()),\n",
    "                               Negacion(self.subf.right.cambiar_de_morgan_y())\n",
    "                              )\n",
    "            else:\n",
    "                return Negacion(self.subf.cambiar_de_morgan_y()) \n",
    "        else:\n",
    "            return Negacion(self.subf.cambiar_de_morgan_y())\n",
    "    elif type(self) == Binario:\n",
    "        return Binario(self.conectivo,\n",
    "                       self.left.cambiar_de_morgan_y(),\n",
    "                       self.right.cambiar_de_morgan_y()\n",
    "                      ) \n",
    "\n",
    "setattr(Formula,\"cambiar_de_morgan_y\",cambiar_de_morgan_y)\n",
    "\n",
    "def cambiar_de_morgan_o(self):\n",
    "    if type(self) == Letra:\n",
    "        return self\n",
    "    elif type(self) == Negacion:\n",
    "        if type(self.subf) == Binario:\n",
    "            if self.subf.conectivo == 'O':\n",
    "                return Binario('Y', \n",
    "                               Negacion(self.subf.left.cambiar_de_morgan_o()),\n",
    "                               Negacion(self.subf.right.cambiar_de_morgan_o())\n",
    "                              )\n",
    "            else:\n",
    "                return Negacion(self.subf.cambiar_de_morgan_o()) \n",
    "        else:\n",
    "            return Negacion(self.subf.cambiar_de_morgan_o())\n",
    "    elif type(self) == Binario:\n",
    "        return Binario(self.conectivo,\n",
    "                       self.left.cambiar_de_morgan_o(),\n",
    "                       self.right.cambiar_de_morgan_o()\n",
    "                      ) \n",
    "\n",
    "setattr(Formula,\"cambiar_de_morgan_o\",cambiar_de_morgan_o)\n",
    "\n",
    "\n",
    "def distribuir_o_en_y(self):\n",
    "    if type(self) == Letra:\n",
    "        return self\n",
    "    elif type(self) == Negacion:\n",
    "        return Negacion(self.subf.distribuir_o_en_y())\n",
    "    elif type(self) == Binario:\n",
    "        if self.conectivo == 'O':\n",
    "            if type(self.right) == Binario:\n",
    "                if self.right.conectivo == 'Y': # B O (C Y D)\n",
    "                    B = self.left.distribuir_o_en_y()\n",
    "                    C = self.right.left.distribuir_o_en_y()\n",
    "                    D = self.right.right.distribuir_o_en_y()\n",
    "                    return Binario('Y',\n",
    "                                   Binario('O', B, C),\n",
    "                                   Binario('O', B, D)\n",
    "                                  )\n",
    "                else:\n",
    "                    return Binario(self.conectivo,\n",
    "                                   self.left.distribuir_o_en_y(),\n",
    "                                   self.right.distribuir_o_en_y()\n",
    "                                  )                     \n",
    "            elif type(self.left) == Binario:\n",
    "                if self.left.conectivo == 'Y': # (B Y C) O D\n",
    "                    B = self.left.left.distribuir_o_en_y()\n",
    "                    C = self.left.right.distribuir_o_en_y()\n",
    "                    D = self.right.distribuir_o_en_y()\n",
    "                    return Binario('Y',\n",
    "                                   Binario('O', B, D),\n",
    "                                   Binario('O', C, D)\n",
    "                                  )\n",
    "                else:\n",
    "                    return Binario(self.conectivo,\n",
    "                                   self.left.distribuir_o_en_y(),\n",
    "                                   self.right.distribuir_o_en_y()\n",
    "                                  )                     \n",
    "        else:\n",
    "            return Binario(self.conectivo,\n",
    "                           self.left.distribuir_o_en_y(),\n",
    "                           self.right.distribuir_o_en_y()\n",
    "                          ) \n",
    "\n",
    "\n",
    "setattr(Formula,\"distribuir_o_en_y\",distribuir_o_en_y)\n"
   ]
  },
  {
   "cell_type": "code",
   "execution_count": 15,
   "metadata": {},
   "outputs": [
    {
     "name": "stdout",
     "output_type": "stream",
     "text": [
      "Al eliminar las dobles implicaciones de \n",
      "--(-(r>q)=(--pYq))\n",
      "se obtiene:\n",
      "--((--(r>q)O(--pYq))Y(-(--pYq)O-(r>q)))\n",
      "Al eliminar las dobles negaciones se obtiene:\n",
      "(((r>q)O(pYq))Y(-(pYq)O-(r>q)))\n",
      "Al reemplazar -(AYB) por -AO-B se obtiene:\n",
      "(((r>q)O(pYq))Y((-pO-q)O-(r>q)))\n"
     ]
    }
   ],
   "source": [
    "A = inorder_to_tree(\"--(-(r>q)=(--pYq))\")\n",
    "B = A.eliminar_doble_imp()\n",
    "print(f'Al eliminar las dobles implicaciones de \\n{str(A)}\\nse obtiene:\\n{str(B)}')\n",
    "C = B.eliminar_doble_negacion()\n",
    "print(f'Al eliminar las dobles negaciones se obtiene:\\n{str(C)}')\n",
    "D = C.cambiar_de_morgan_y()\n",
    "print(f'Al reemplazar -(AYB) por -AO-B se obtiene:\\n{str(D)}')\n"
   ]
  },
  {
   "cell_type": "markdown",
   "metadata": {},
   "source": [
    "**Ejercicio 3:**\n",
    "\n",
    "Complete todos los métodos de modificación anteriores. Al probar su código con la siguiente celda, la respuesta debe ser:\n",
    "\n",
    "`\n",
    "Fórmula inicial:\n",
    "((pOq)>(rY-s))\n",
    "Al eliminar las implicaciones se obtiene:\n",
    "(-(pOq)O(rY-s))\n",
    "Al reemplazar -(AOB) por -AY-B se obtiene:\n",
    "((-pY-q)O(rY-s))\n",
    "Al distribuir O en Y se obtiene:\n",
    "(((-pY-q)Or)Y((-pY-q)O-s))\n",
    "Al distribuir O en Y se obtiene:\n",
    "(((-pOr)Y(-qOr))Y((-pO-s)Y(-qO-s)))\n",
    "`"
   ]
  },
  {
   "cell_type": "code",
   "execution_count": 16,
   "metadata": {},
   "outputs": [
    {
     "name": "stdout",
     "output_type": "stream",
     "text": [
      "Fórmula inicial:\n",
      "((pOq)>(rY-s))\n",
      "Al eliminar las implicaciones se obtiene:\n",
      "(-(pOq)O(rY-s))\n",
      "Al reemplazar -(AOB) por -AY-B se obtiene:\n",
      "((-pY-q)O(rY-s))\n",
      "Al distribuir O en Y se obtiene:\n",
      "(((-pY-q)Or)Y((-pY-q)O-s))\n",
      "Al distribuir O en Y se obtiene:\n",
      "(((-pOr)Y(-qOr))Y((-pO-s)Y(-qO-s)))\n"
     ]
    }
   ],
   "source": [
    "A = inorder_to_tree(\"((pOq)>(rY-s))\")\n",
    "print(f'Fórmula inicial:\\n{str(A)}')\n",
    "B = A.eliminar_imp()\n",
    "print(f'Al eliminar las implicaciones se obtiene:\\n{str(B)}')\n",
    "C = B.cambiar_de_morgan_o()\n",
    "print(f'Al reemplazar -(AOB) por -AY-B se obtiene:\\n{str(C)}')\n",
    "D = C.distribuir_o_en_y()\n",
    "print(f'Al distribuir O en Y se obtiene:\\n{str(D)}')\n",
    "E = D.distribuir_o_en_y()\n",
    "print(f'Al distribuir O en Y se obtiene:\\n{str(E)}')\n",
    "\n"
   ]
  },
  {
   "cell_type": "markdown",
   "metadata": {},
   "source": [
    "---"
   ]
  }
 ],
 "metadata": {
  "kernelspec": {
   "display_name": "base",
   "language": "python",
   "name": "python3"
  },
  "language_info": {
   "codemirror_mode": {
    "name": "ipython",
    "version": 3
   },
   "file_extension": ".py",
   "mimetype": "text/x-python",
   "name": "python",
   "nbconvert_exporter": "python",
   "pygments_lexer": "ipython3",
   "version": "3.10.8"
  },
  "vscode": {
   "interpreter": {
    "hash": "ad2bdc8ecc057115af97d19610ffacc2b4e99fae6737bb82f5d7fb13d2f2c186"
   }
  }
 },
 "nbformat": 4,
 "nbformat_minor": 4
}
