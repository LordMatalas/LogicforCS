{
 "cells": [
  {
   "cell_type": "code",
   "execution_count": 8,
   "metadata": {},
   "outputs": [],
   "source": [
    "class Formula :\n",
    "    def __init__(self) :\n",
    "        pass\n",
    "\n",
    "    def __str__(self) :\n",
    "        if type(self) == Letra:\n",
    "            return self.letra\n",
    "        elif type(self) == Negacion:\n",
    "            return '-' + str(self.subf)\n",
    "        elif type(self) == Binario:\n",
    "            return \"(\" + str(self.sub_left) + self.conectivo + str(self.sub_right) + \")\"\n",
    "\n",
    "    def num_conec(self) :\n",
    "        if type(self) == Letra:\n",
    "            return 0\n",
    "        elif type(self) == Negacion:\n",
    "            return 1 + self.subf.num_conec()\n",
    "        elif type(self) == Binario:\n",
    "            return 1 + self.sub_left.num_conec() + self.sub_right.num_conec()\n",
    "\n",
    "    def num_paren(self) :\n",
    "        if type(self) == Letra:\n",
    "            return 0\n",
    "        elif type(self) == Negacion:\n",
    "            return self.subf.num_paren()\n",
    "        elif type(self) == Binario:\n",
    "            return 2 + self.sub_left.num_paren() + self.sub_right.num_paren()\n",
    "\n",
    "    def num_letras(self) :\n",
    "        if type(self) == Letra:\n",
    "            return 1\n",
    "        elif type(self) == Negacion:\n",
    "            return self.subf.num_letras()\n",
    "        elif type(self) == Binario:\n",
    "            return self.sub_left.num_letras() + self.sub_right.num_letras()\n",
    "\n",
    "    def num_bin(self) :\n",
    "        if type(self) == Letra:\n",
    "            return 0\n",
    "        elif type(self) == Negacion:\n",
    "            return self.subf.num_bin()\n",
    "        elif type(self) == Binario:\n",
    "            return 1 + self.sub_left.num_bin() + self.sub_right.num_bin()\n",
    "\n",
    "class Letra(Formula) :\n",
    "    def __init__ (self, letra:str) :\n",
    "        self.letra = letra\n",
    "           \n",
    "class Negacion(Formula) :    \n",
    "    def __init__(self, subf:Formula) : \n",
    "        self.subf = subf\n",
    "        \n",
    "class Binario(Formula) :\n",
    "    def __init__(self, conectivo:str, sub_left:Formula, sub_right:Formula) :\n",
    "        assert(conectivo in ['Y','O','>','='])\n",
    "        self.conectivo = conectivo\n",
    "        self.sub_left = sub_left\n",
    "        self.sub_right = sub_right\n",
    "        \n"
   ]
  },
  {
   "cell_type": "markdown",
   "metadata": {},
   "source": [
    "Implementación recursión sobre fórmulas (1)"
   ]
  },
  {
   "cell_type": "code",
   "execution_count": 9,
   "metadata": {},
   "outputs": [
    {
     "name": "stdout",
     "output_type": "stream",
     "text": [
      "(((pY-s)>(pY-r))O(-qOp))\n",
      "8\n"
     ]
    }
   ],
   "source": [
    "f = Binario('O', Binario('>', Binario('Y', Letra('p'), Negacion(Letra('s'))), Binario('Y', Letra('p'), Negacion(Letra('r')))), Binario('O', Negacion(Letra('q')), Letra('p')))\n",
    "print(f)\n",
    "print(f.num_conec())"
   ]
  },
  {
   "cell_type": "markdown",
   "metadata": {},
   "source": [
    "Implementación recursión sobre fórmulas (2)"
   ]
  },
  {
   "cell_type": "code",
   "execution_count": 10,
   "metadata": {},
   "outputs": [
    {
     "name": "stdout",
     "output_type": "stream",
     "text": [
      "(((pY-s)>(pY-r))O(-qOp))\n",
      "6\n"
     ]
    }
   ],
   "source": [
    "f = Binario('O', Binario('>', Binario('Y', Letra('p'), Negacion(Letra('s'))), Binario('Y', Letra('p'), Negacion(Letra('r')))), Binario('O', Negacion(Letra('q')), Letra('p')))\n",
    "print(f)\n",
    "print(f.num_letras())"
   ]
  },
  {
   "cell_type": "markdown",
   "metadata": {},
   "source": [
    "Definicion_funcion_recursiva_formulas (1)"
   ]
  },
  {
   "cell_type": "code",
   "execution_count": 11,
   "metadata": {},
   "outputs": [
    {
     "name": "stdout",
     "output_type": "stream",
     "text": [
      "((pYq)>(-pY-q))\n",
      "6\n"
     ]
    }
   ],
   "source": [
    "A = Binario('>', Binario('Y', Letra('p'), Letra('q')), Binario('Y', Negacion(Letra('p')), Negacion(Letra('q'))))\n",
    "print(A)\n",
    "print(A.num_paren())"
   ]
  },
  {
   "cell_type": "code",
   "execution_count": 12,
   "metadata": {},
   "outputs": [
    {
     "name": "stdout",
     "output_type": "stream",
     "text": [
      "(((pYq)>(-pY-q))Y((pYq)>(-pY-q)))\n",
      "14\n"
     ]
    }
   ],
   "source": [
    "A = Binario('Y', Binario('>', Binario('Y', Letra('p'), Letra('q')), Binario('Y', Negacion(Letra('p')), Negacion(Letra('q')))), Binario('>', Binario('Y', Letra('p'),Letra('q')), Binario('Y', Negacion(Letra('p')), Negacion(Letra('q')))))\n",
    "print(A)\n",
    "print(A.num_paren())"
   ]
  },
  {
   "cell_type": "markdown",
   "metadata": {},
   "source": [
    "Definicion_funcion_recursiva_formulas (2)"
   ]
  },
  {
   "cell_type": "code",
   "execution_count": 13,
   "metadata": {},
   "outputs": [
    {
     "name": "stdout",
     "output_type": "stream",
     "text": [
      "((pY(pOs))>(-pY-q))\n",
      "8\n"
     ]
    }
   ],
   "source": [
    "A = Binario('>', Binario('Y', Letra('p'), Binario('O', Letra('p'), Letra('s'))), Binario('Y', Negacion(Letra('p')), Negacion(Letra('q'))))\n",
    "print(A)\n",
    "print(A.num_paren())"
   ]
  },
  {
   "cell_type": "code",
   "execution_count": 14,
   "metadata": {},
   "outputs": [
    {
     "name": "stdout",
     "output_type": "stream",
     "text": [
      "(((pYq)>((pYq)Y-q))Y((pYq)>(-pY-q)))\n",
      "16\n"
     ]
    }
   ],
   "source": [
    "A = Binario('Y', Binario('>', Binario('Y', Letra('p'), Letra('q')), Binario('Y', Binario('Y', Letra('p'), Letra('q')), Negacion(Letra('q')))), Binario('>', Binario('Y', Letra('p'), Letra('q')), Binario('Y', Negacion(Letra('p')), Negacion(Letra('q')))))\n",
    "print(A)\n",
    "print(A.num_paren())"
   ]
  },
  {
   "cell_type": "markdown",
   "metadata": {},
   "source": [
    "Definicion_funcion_recursiva_formulas (3)"
   ]
  },
  {
   "cell_type": "code",
   "execution_count": 16,
   "metadata": {},
   "outputs": [
    {
     "name": "stdout",
     "output_type": "stream",
     "text": [
      "((pY((pYq)Os))>(-pY-q))\n",
      "10\n"
     ]
    }
   ],
   "source": [
    "A = Binario('>', Binario('Y', Letra('p'), Binario('O', Binario('Y', Letra('p'), Letra('q')), Letra('s'))), Binario('Y', Negacion(Letra('p')), Negacion(Letra('q'))))\n",
    "print(A)\n",
    "print(A.num_paren())"
   ]
  },
  {
   "cell_type": "code",
   "execution_count": 17,
   "metadata": {},
   "outputs": [
    {
     "name": "stdout",
     "output_type": "stream",
     "text": [
      "((p>(pY-q))Y((pYq)>(-pY-q)))\n",
      "12\n"
     ]
    }
   ],
   "source": [
    "A = Binario('Y', Binario('>', Letra('p'), Binario('Y', Letra('p'), Negacion(Letra('q')))), Binario('>', Binario('Y', Letra('p'), Letra('q')), Binario('Y', Negacion(Letra('p')), Negacion(Letra('q')))))\n",
    "print(A)\n",
    "print(A.num_paren())"
   ]
  },
  {
   "cell_type": "markdown",
   "metadata": {},
   "source": [
    "Definicion_funcion_recursiva_formulas (4)"
   ]
  },
  {
   "cell_type": "code",
   "execution_count": 18,
   "metadata": {},
   "outputs": [
    {
     "name": "stdout",
     "output_type": "stream",
     "text": [
      "((--sOq)>--r)\n",
      "4\n"
     ]
    }
   ],
   "source": [
    "A = Binario('>', Binario('O', Negacion(Negacion(Letra('s'))), Letra('q')), Negacion(Negacion(Letra('r'))))\n",
    "print(A)\n",
    "print(A.num_paren())"
   ]
  },
  {
   "cell_type": "code",
   "execution_count": 27,
   "metadata": {},
   "outputs": [
    {
     "name": "stdout",
     "output_type": "stream",
     "text": [
      "((((r>q)Yq)>(((s>q)Yq)Y-q))Y((pYq)>(-pY-q)))\n",
      "20\n"
     ]
    }
   ],
   "source": [
    "A = Binario('Y', Binario('>', Binario('Y', Binario('>', Letra('r'), Letra('q')), Letra('q')), Binario('Y', Binario('Y', Binario('>', Letra('s'), Letra('q')), Letra('q')), Negacion(Letra('q')))), Binario('>', Binario('Y', Letra('p'), Letra('q')), Binario('Y', Negacion(Letra('p')), Negacion(Letra('q')))))\n",
    "print(A)\n",
    "print(A.num_paren())"
   ]
  },
  {
   "cell_type": "code",
   "execution_count": null,
   "metadata": {},
   "outputs": [],
   "source": []
  }
 ],
 "metadata": {
  "kernelspec": {
   "display_name": "Python 3",
   "language": "python",
   "name": "python3"
  },
  "language_info": {
   "codemirror_mode": {
    "name": "ipython",
    "version": 3
   },
   "file_extension": ".py",
   "mimetype": "text/x-python",
   "name": "python",
   "nbconvert_exporter": "python",
   "pygments_lexer": "ipython3",
   "version": "3.9.7"
  }
 },
 "nbformat": 4,
 "nbformat_minor": 4
}
