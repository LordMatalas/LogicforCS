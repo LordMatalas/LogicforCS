{
 "cells": [
  {
   "cell_type": "markdown",
   "metadata": {},
   "source": [
    "<table>\n",
    "    <tr>\n",
    "        <td><img src=\"./img/Macc.png\" width=\"auto\"/></td>\n",
    "        <td>\n",
    "            <table><tr>\n",
    "            <h1 style=\"color:blue;text-align:center\">Lógica para Ciencias de la Computación</h1></td>\n",
    "            </tr></table>   \n",
    "        <td>&nbsp;</td>\n",
    "        <td>\n",
    "            <table><tr>\n",
    "            <tp><p style=\"font-size:150%;text-align:center\">Taller</p></tp>\n",
    "            <tp><p style=\"font-size:150%;text-align:center\">Implementación de tablas de verdad</p></tp>\n",
    "            </tr></table>\n",
    "        </td>\n",
    "    </tr>\n",
    "</table>\n",
    "\n",
    "---"
   ]
  },
  {
   "cell_type": "markdown",
   "metadata": {},
   "source": [
    "# Objetivo <a class=\"anchor\" id=\"inicio\"></a>\n",
    "\n",
    "En este taller nos familiarizaremos con el álgebra booleana incorporada en Python. Mediante nuestra definición de fórmulas y la implementación de interpretaciones y de un método para evaluar el valor de verdad de una fórmula, explicaremos cómo ocurre la evaluación de operaciones booleanas. Más aún, mostraremos cómo construir fórmulas arbitrariamente grandes y complejas mediante una función que toma una cadena y crea un objeto de clase `Formula`. Este truco resultará muy útil cuando usemos la lógica para representar problemas."
   ]
  },
  {
   "cell_type": "markdown",
   "metadata": {},
   "source": [
    "# Secciones\n",
    "\n",
    "1. [Algebra booleana en python.](#alg)\n",
    "2. [Funciones de interpretación como diccionarios.](#funs)\n",
    "3. [El método de evaluación de fórmulas.](#eval)\n",
    "4. [De cadenas a fórmulas.](#inorder)\n",
    "5. [Ejercicios.](#ejers)\n",
    "6. [Comparación empírica de tiempos (opcional).](#comp)"
   ]
  },
  {
   "cell_type": "markdown",
   "metadata": {},
   "source": [
    "# Álgebra booleana en python <a class=\"anchor\" id=\"alg\"></a>\n",
    "\n",
    "([Volver al inicio](#inicio))\n",
    "\n",
    "Python implementa las dos constantes `True` y `False`, mediante las cuales es posible definir variables booleanas: "
   ]
  },
  {
   "cell_type": "code",
   "execution_count": 131,
   "metadata": {},
   "outputs": [],
   "source": [
    "p = True\n",
    "q = False"
   ]
  },
  {
   "cell_type": "markdown",
   "metadata": {},
   "source": [
    "Estas constantes y variables pueden manipularse mediante la operación unaria `not` y las operaciones binarias `and` y `or`:"
   ]
  },
  {
   "cell_type": "code",
   "execution_count": 132,
   "metadata": {},
   "outputs": [
    {
     "name": "stdout",
     "output_type": "stream",
     "text": [
      "False\n",
      "False\n",
      "True\n"
     ]
    }
   ],
   "source": [
    "print(not p)\n",
    "print(p and q)\n",
    "print(p or q)"
   ]
  },
  {
   "cell_type": "markdown",
   "metadata": {},
   "source": [
    "Podemos verificar los valores de estas operaciones haciendo la evaluación sobre todos los valores posibles de sus argumentos:"
   ]
  },
  {
   "cell_type": "code",
   "execution_count": 133,
   "metadata": {},
   "outputs": [
    {
     "data": {
      "text/plain": [
       "[(True, True), (True, False), (False, True), (False, False)]"
      ]
     },
     "execution_count": 133,
     "metadata": {},
     "output_type": "execute_result"
    }
   ],
   "source": [
    "from itertools import product\n",
    "\n",
    "interpretaciones = list(product([True,False], [True,False]))\n",
    "interpretaciones"
   ]
  },
  {
   "cell_type": "code",
   "execution_count": 146,
   "metadata": {},
   "outputs": [
    {
     "name": "stdout",
     "output_type": "stream",
     "text": [
      "--------------------\n",
      "p     q     p and q\n",
      "--------------------\n",
      "True  True  True\n",
      "True  False False\n",
      "False True  False\n",
      "False False False\n",
      "\n",
      "--------------------\n",
      "p     q     p or q\n",
      "--------------------\n",
      "True  True  True\n",
      "True  False True\n",
      "False True  True\n",
      "False False False\n"
     ]
    }
   ],
   "source": [
    "print('-'*20)\n",
    "print('p     q     p and q')\n",
    "print('-'*20)\n",
    "for I in interpretaciones:\n",
    "    p = I[0]\n",
    "    q = I[1]\n",
    "    espacio1 = '  ' if p else ' '\n",
    "    espacio2 = '  ' if q else ' '\n",
    "    print(f'{p}{espacio1}{q}{espacio2}{p and q}')\n",
    "    \n",
    "print('')\n",
    "print('-'*20)\n",
    "print('p     q     p or q')\n",
    "print('-'*20)\n",
    "for I in interpretaciones:\n",
    "    p = I[0]\n",
    "    q = I[1]\n",
    "    espacio1 = '  ' if p else ' '\n",
    "    espacio2 = '  ' if q else ' '\n",
    "    print(f'{p}{espacio1}{q}{espacio2}{p or q}')"
   ]
  },
  {
   "cell_type": "markdown",
   "metadata": {},
   "source": [
    "Observe que una variable como `p and q or p` es ambigua. Es decir, ¿su evaluación es de la forma `(p and q) or p` o de la forma `p and (q or p)`?"
   ]
  },
  {
   "cell_type": "code",
   "execution_count": 157,
   "metadata": {},
   "outputs": [
    {
     "data": {
      "text/plain": [
       "False"
      ]
     },
     "execution_count": 157,
     "metadata": {},
     "output_type": "execute_result"
    }
   ],
   "source": [
    "p and q or p"
   ]
  },
  {
   "cell_type": "markdown",
   "metadata": {},
   "source": [
    "Python no tiene problema en operar sin paréntesis. Básicamente, porque está dando prioridad a alguna de las dos operaciones. O bien `and` siempre va primero, o bien `or` siempre va primero.\n",
    "\n",
    "Tratemos de encontrar empíricamente cuál operación tiene prioridad:"
   ]
  },
  {
   "cell_type": "code",
   "execution_count": 155,
   "metadata": {},
   "outputs": [
    {
     "name": "stdout",
     "output_type": "stream",
     "text": [
      "Dando prioridad a and\n",
      "---------------------------------\n",
      "p     q     p and q and (p or q)\n",
      "---------------------------------\n",
      "True  True      True\n",
      "True  False     False\n",
      "False True      True\n",
      "False False     False\n",
      "\n",
      "Dando prioridad a or\n",
      "---------------------------------\n",
      "p     q     p and q and (p or q)\n",
      "---------------------------------\n",
      "True  True      True\n",
      "True  False     False\n",
      "False True      False\n",
      "False False     False\n",
      "\n",
      "Prioridad de Python\n",
      "---------------------------------\n",
      "p     q     p and q and p or q\n",
      "---------------------------------\n",
      "True  True      True\n",
      "True  False     False\n",
      "False True      True\n",
      "False False     False\n"
     ]
    }
   ],
   "source": [
    "print('Dando prioridad a and')\n",
    "print('-'*33)\n",
    "print('p     q     p and q and (p or q)')\n",
    "print('-'*33)\n",
    "for I in interpretaciones:\n",
    "    p = I[0]\n",
    "    q = I[1]\n",
    "    espacio1 = '  ' if p else ' '\n",
    "    espacio2 = '      ' if q else '     '\n",
    "    print(f'{p}{espacio1}{q}{espacio2}{(p and q) and p or q}')\n",
    "\n",
    "print('')\n",
    "print('Dando prioridad a or')\n",
    "print('-'*33)\n",
    "print('p     q     p and q and (p or q)')\n",
    "print('-'*33)\n",
    "for I in interpretaciones:\n",
    "    p = I[0]\n",
    "    q = I[1]\n",
    "    espacio1 = '  ' if p else ' '\n",
    "    espacio2 = '      ' if q else '     '\n",
    "    print(f'{p}{espacio1}{q}{espacio2}{p and q and (p or q)}')\n",
    "\n",
    "print('')\n",
    "print('Prioridad de Python')\n",
    "print('-'*33)\n",
    "print('p     q     p and q and p or q')\n",
    "print('-'*33)\n",
    "for I in interpretaciones:\n",
    "    p = I[0]\n",
    "    q = I[1]\n",
    "    espacio1 = '  ' if p else ' '\n",
    "    espacio2 = '      ' if q else '     '\n",
    "    print(f'{p}{espacio1}{q}{espacio2}{p and q and p or q}')"
   ]
  },
  {
   "cell_type": "markdown",
   "metadata": {},
   "source": [
    "Vemos que la primera y tercera tablas son iguales, lo que quiere decir que Python da prioridad a `and` sobre `or`, es decir, primero evalúa los `and` y, una vez todos han sido resueltos, evalúa los `or`. **Las prioridades de python son `not` sobre `and` sobre `or`**."
   ]
  },
  {
   "cell_type": "markdown",
   "metadata": {},
   "source": [
    "---"
   ]
  },
  {
   "cell_type": "markdown",
   "metadata": {},
   "source": [
    "# Funciones de interpretación como diccionarios <a class=\"anchor\" id=\"funs\"></a>\n",
    "\n",
    "([Volver al inicio](#inicio))\n",
    "\n",
    "Como pudimos ver en la sección anterior, Python ya tiene incorporada el álgebra booleana. Las variables booleanas son lo que nosotros hemos definido como fórmulas de la lógica proposicional. Las operaciones booleanas nosotros las llamamos conectivos lógicos (o constantes lógicas).\n",
    "\n",
    "En este curso no usaremos mucho esta álgebra booleana de Python, sino que iremos mucho más allá, por varias razones. La primera es que queremos abrir la caja negra de la evaluación de operaciones booleanas. ¿Cómo se obtiene el valor de una variable booleana? \n",
    "\n",
    "En segundo lugar, queremos crear de manera algorítmica fórmulas de gran tamaño y gran complejidad, las cuales usaremos en nuestros ejercicios de representación de problemas. Python no presenta una manera fácil de creación algorítmica de variables. Nosotros veremos una manera muy sencilla de crear fórmulas a partir de cadenas.\n",
    "\n",
    "Finalmente, en tercer lugar, vamos a implementar varios métodos para buscar modelos de una fórmula arbitrariamente grande y compleja. \n",
    "\n",
    "Vamos a ver ahora cómo implementar las funciones de interpretación y la manera de evaluar el valor de verdad de una fórmula. Comenzamos usando diccionarios para implementar las funciones de interpretación, es decir, aquellas que dan valores de verdad a las letras proposicionales:"
   ]
  },
  {
   "cell_type": "code",
   "execution_count": 159,
   "metadata": {},
   "outputs": [
    {
     "name": "stdout",
     "output_type": "stream",
     "text": [
      "True\n",
      "False\n"
     ]
    }
   ],
   "source": [
    "I = {'p':True, 'q':False}\n",
    "print(I['p'])\n",
    "print(I['q'])"
   ]
  },
  {
   "cell_type": "markdown",
   "metadata": {},
   "source": [
    "Si queremos incluir el valor de una nueva letra proposicional, podemos simplemente aumentar el diccionario:"
   ]
  },
  {
   "cell_type": "code",
   "execution_count": 161,
   "metadata": {},
   "outputs": [
    {
     "data": {
      "text/plain": [
       "True"
      ]
     },
     "execution_count": 161,
     "metadata": {},
     "output_type": "execute_result"
    }
   ],
   "source": [
    "I['r'] = True\n",
    "I['r']"
   ]
  },
  {
   "cell_type": "markdown",
   "metadata": {},
   "source": [
    "---"
   ]
  },
  {
   "cell_type": "markdown",
   "metadata": {},
   "source": [
    "# El método de evaluación de fórmulas <a class=\"anchor\" id=\"eval\"></a>\n",
    "\n",
    "([Volver al inicio](#inicio))\n",
    "\n",
    "Ya hemos visto como implementar las funciones de interpretación. Ahora vamos a ver cómo usarlas para darle un valor de verdad a una fórmula.\n",
    "\n",
    "Comenzamos por incluir la clase `Formula` y sus subclases:"
   ]
  },
  {
   "cell_type": "code",
   "execution_count": 34,
   "metadata": {},
   "outputs": [],
   "source": [
    "class Formula :\n",
    "    def __init__(self) :\n",
    "        pass\n",
    "\n",
    "    def __str__(self) :\n",
    "        if type(self) == Letra:\n",
    "            return self.letra\n",
    "        elif type(self) == Negacion:\n",
    "            return '-' + str(self.subf)\n",
    "        elif type(self) == Binario:\n",
    "            return \"(\" + str(self.left) + self.conectivo + str(self.right) + \")\"\n",
    "\n",
    "class Letra(Formula) :\n",
    "    def __init__ (self, letra:str) :\n",
    "        self.letra = letra\n",
    "           \n",
    "class Negacion(Formula) :    \n",
    "    def __init__(self, subf:Formula) : \n",
    "        self.subf = subf\n",
    "        \n",
    "class Binario(Formula) :\n",
    "    def __init__(self, conectivo:str, left:Formula, right:Formula) :\n",
    "        assert(conectivo in ['Y','O','>','='])\n",
    "        self.conectivo = conectivo\n",
    "        self.left = left\n",
    "        self.right = right\n",
    "\n"
   ]
  },
  {
   "cell_type": "markdown",
   "metadata": {},
   "source": [
    "Ahora bien, evaluar el valor de verdad de una fórmula dado un valor de verdad de sus letras proposicionales, se realiza mediante una función recursiva. En las diapositivas de clase hay un ejemplo explicado en detalle. Esta función la incluimos como un método de la clase `Formula`:"
   ]
  },
  {
   "cell_type": "code",
   "execution_count": 36,
   "metadata": {},
   "outputs": [],
   "source": [
    "def valor(self, I) :\n",
    "    if type(self) == Letra:\n",
    "        return I[self.letra]\n",
    "    elif type(self) == Negacion:\n",
    "        return not self.subf.valor(I)\n",
    "    elif type(self) == Binario:\n",
    "        if self.conectivo == 'Y':\n",
    "            return self.left.valor(I) and self.right.valor(I)\n",
    "        if self.conectivo == 'O':\n",
    "            return self.left.valor(I) or self.right.valor(I)\n",
    "        if self.conectivo == '>':\n",
    "            return not self.left.valor(I) or self.right.valor(I)\n",
    "        if self.conectivo == '=':\n",
    "            return (self.left.valor(I) and self.right.valor(I)) or (not self.left.valor(I) and not self.right.valor(I)) \n",
    "\n",
    "setattr(Formula, \"valor\", valor)"
   ]
  },
  {
   "cell_type": "markdown",
   "metadata": {},
   "source": [
    "Veámos cómo funciona en un par de casos:"
   ]
  },
  {
   "cell_type": "code",
   "execution_count": 168,
   "metadata": {},
   "outputs": [
    {
     "name": "stdout",
     "output_type": "stream",
     "text": [
      "p tiene el valor True\n",
      "q tiene el valor False\n",
      "-p tiene el valor False\n",
      "(p>q) tiene el valor False\n",
      "-(p>q) tiene el valor True\n",
      "(-q=-(p>q)) tiene el valor True\n"
     ]
    }
   ],
   "source": [
    "# Creamos las fórmulas\n",
    "p = Letra('p')\n",
    "q = Letra('q')\n",
    "A1 = Negacion(p)\n",
    "A2 = Binario('>', p, q)\n",
    "A3 = Negacion(A2)\n",
    "A4 = Binario('=', Negacion(q), A3)\n",
    "\n",
    "# Visualizamos la notación inorder de las fórmulas\n",
    "# con su respectivo valor de verdad dada la interpretación I\n",
    "I = {'p':True, 'q':False}\n",
    "print(f'{p} tiene el valor {p.valor(I)}')\n",
    "print(f'{q} tiene el valor {q.valor(I)}')\n",
    "print(f'{A1} tiene el valor {A1.valor(I)}')\n",
    "print(f'{A2} tiene el valor {A2.valor(I)}')\n",
    "print(f'{A3} tiene el valor {A3.valor(I)}')\n",
    "print(f'{A4} tiene el valor {A4.valor(I)}')"
   ]
  },
  {
   "cell_type": "markdown",
   "metadata": {},
   "source": [
    "---"
   ]
  },
  {
   "cell_type": "markdown",
   "metadata": {},
   "source": [
    "# De cadenas a fórmulas <a class=\"anchor\" id=\"inorder\"></a>\n",
    "\n",
    "([Volver al inicio](#inicio))\n",
    "\n",
    "Todo esto está muy bien, pero ¿por qué tanto alboroto si Python ya tiene incorporada el álgebra booleana? Bueno, hemos abierto la caja negra de cómo hace Python para evaluar una variable booleana. Adicionalmente, ahora vamos a ver cómo construir fórmulas a partir de cadenas. Esto no lo tiene Python. Además, nosotros vamos a necesitar construir fórmulas grandes y complejas para la representación de problemas.\n",
    "\n",
    "La siguiente función toma una cadena y devuelve un objeto de clase `Formula`. La explicación con ejemplos se encuentra en las diapositivas de clase:"
   ]
  },
  {
   "cell_type": "code",
   "execution_count": 169,
   "metadata": {},
   "outputs": [
    {
     "name": "stdout",
     "output_type": "stream",
     "text": [
      "(-p>((pY-q)>(pYq)))\n",
      "(-pOq)\n",
      "(pY-q)\n"
     ]
    }
   ],
   "source": [
    "def inorder_to_tree(cadena:str):\n",
    "    conectivos = ['Y', 'O', '>', '=']\n",
    "    if len(cadena) == 1:\n",
    "        return Letra(cadena)\n",
    "    elif cadena[0] == '-':\n",
    "        return Negacion(inorder_to_tree(cadena[1:]))\n",
    "    elif cadena[0] == \"(\":\n",
    "        counter = 0 #Contador de parentesis\n",
    "        for i in range(1, len(cadena)):\n",
    "            if cadena[i] == \"(\":\n",
    "                counter += 1\n",
    "            elif cadena[i] == \")\":\n",
    "                counter -=1\n",
    "            elif cadena[i] in conectivos and counter == 0:\n",
    "                return Binario(cadena[i], inorder_to_tree(cadena[1:i]),inorder_to_tree(cadena[i + 1:-1]))\n",
    "    else:\n",
    "        raise Exception('¡Cadena inválida!')\n",
    "\n",
    "prueba1 = \"(-p>((pY-q)>(pYq)))\"\n",
    "prueba2 = \"(-pOq)\"\n",
    "prueba3 = \"(pY-q)\"\n",
    "\n",
    "Tree = inorder_to_tree(prueba1)\n",
    "Tree2 = inorder_to_tree(prueba2)\n",
    "Tree3 = inorder_to_tree(prueba3)\n",
    "\n",
    "print(Tree)\n",
    "print(Tree2)\n",
    "print(Tree3)"
   ]
  },
  {
   "cell_type": "markdown",
   "metadata": {},
   "source": [
    "---"
   ]
  },
  {
   "cell_type": "markdown",
   "metadata": {},
   "source": [
    "# Ejercicios <a class=\"anchor\" id=\"ejers\"></a>\n",
    "\n",
    "([Volver al inicio](#inicio))"
   ]
  },
  {
   "cell_type": "markdown",
   "metadata": {},
   "source": [
    "Ejercicio: verifique que `not` tiene mayor prioridad que `and`. "
   ]
  },
  {
   "cell_type": "markdown",
   "metadata": {},
   "source": [
    "# Comparación empírica de tiempos <a class=\"anchor\" id=\"comp\"></a>\n",
    "### Sección opcional\n",
    "\n",
    "([Volver al inicio](#inicio))\n",
    "\n",
    "Como tenemos dos funciones que realizan el mismo procedimiento, resulta interesante evaluar de manera empírica cuál de las dos es más eficiente."
   ]
  },
  {
   "cell_type": "code",
   "execution_count": 109,
   "metadata": {},
   "outputs": [],
   "source": [
    "from time import time\n",
    "\n",
    "def obtiene_tiempos(fun, args, num_it=100):\n",
    "    tiempos_fun = []\n",
    "    for i in range(num_it):\n",
    "        arranca = time()\n",
    "        x = fun(*args)\n",
    "        para = time()\n",
    "        tiempos_fun.append(para - arranca)\n",
    "    return tiempos_fun"
   ]
  },
  {
   "cell_type": "code",
   "execution_count": 171,
   "metadata": {},
   "outputs": [],
   "source": [
    "vals = [True, False, True]\n",
    "fun1 = lambda p, q, r: not (p and q) or r\n",
    "\n",
    "cadena = '(-(pYq)Or)'\n",
    "A = inorder_to_tree(cadena)\n",
    "I = {'p':True, 'q':False, 'r':True}\n",
    "fun2 = lambda A, I: A.valor(I)"
   ]
  },
  {
   "cell_type": "code",
   "execution_count": 172,
   "metadata": {},
   "outputs": [],
   "source": [
    "t1 = obtiene_tiempos(fun1, vals)\n",
    "t2 = obtiene_tiempos(fun2, [A, I])"
   ]
  },
  {
   "cell_type": "code",
   "execution_count": 173,
   "metadata": {},
   "outputs": [],
   "source": [
    "import matplotlib.pyplot as plt\n",
    "import seaborn as sns\n",
    "from scipy.stats import ttest_ind\n",
    "from numpy import mean\n",
    "\n",
    "def compara_funciones(fun1, fun2, args1, args2, N=100, equal_var=False):\n",
    "    t1 = obtiene_tiempos(fun1, args1, N)\n",
    "    t2 = obtiene_tiempos(fun2, args2, N)\n",
    "    fig, ax = plt.subplots(1,2, figsize=(6,3), tight_layout=True)\n",
    "    sns.histplot(t1, kde=True, ax=ax[0])\n",
    "    sns.histplot(t2, kde=True, ax=ax[1])\n",
    "    max1 = ax[0].get_xlim()[1]\n",
    "    max2 = ax[1].get_xlim()[1]\n",
    "    maximo = max(max1, max2)\n",
    "    ax[0].set_xlim(0,maximo)\n",
    "    ax[1].set_xlim(0,maximo)\n",
    "    print(f'tiempo promedio fun1: {mean(t1)}')\n",
    "    print(f'tiempo promedio fun2: {mean(t2)}')\n",
    "    print('H0: t1 == t2')\n",
    "    t, p = ttest_ind(t1, t2, equal_var=equal_var)\n",
    "    print(f't: {t}')\n",
    "    print(f'valor p: {p}')\n",
    "    plt.show()"
   ]
  },
  {
   "cell_type": "code",
   "execution_count": 174,
   "metadata": {
    "scrolled": true
   },
   "outputs": [
    {
     "name": "stdout",
     "output_type": "stream",
     "text": [
      "tiempo promedio fun1: 3.862380981445313e-07\n",
      "tiempo promedio fun2: 3.8671493530273435e-06\n",
      "H0: t1 == t2\n",
      "t: -15.845605096306153\n",
      "valor p: 3.877134413978443e-30\n"
     ]
    },
    {
     "data": {
      "image/png": "[encoded data removed]",
      "text/plain": [
       "<Figure size 432x216 with 2 Axes>"
      ]
     },
     "metadata": {
      "needs_background": "light"
     },
     "output_type": "display_data"
    }
   ],
   "source": [
    "compara_funciones(fun1, fun2, vals, [A,I])"
   ]
  }
 ],
 "metadata": {
  "kernelspec": {
   "display_name": "Python 3",
   "language": "python",
   "name": "python3"
  },
  "language_info": {
   "codemirror_mode": {
    "name": "ipython",
    "version": 3
   },
   "file_extension": ".py",
   "mimetype": "text/x-python",
   "name": "python",
   "nbconvert_exporter": "python",
   "pygments_lexer": "ipython3",
   "version": "3.9.7"
  }
 },
 "nbformat": 4,
 "nbformat_minor": 4
}
