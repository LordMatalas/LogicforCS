{
 "cells": [
  {
   "cell_type": "markdown",
   "metadata": {},
   "source": [
    "<table>\n",
    "    <tr>\n",
    "        <td><img src=\"./img/Macc.png\" width=\"auto\"/></td>\n",
    "        <td>\n",
    "            <table><tr>\n",
    "            <h1 style=\"color:blue;text-align:center\">Lógica para Ciencias de la Computación</h1></td>\n",
    "            </tr></table>   \n",
    "        <td>&nbsp;</td>\n",
    "        <td>\n",
    "            <table><tr>\n",
    "            <tp><p style=\"font-size:150%;text-align:center\">Taller</p></tp>\n",
    "            <tp><p style=\"font-size:150%;text-align:center\">Algoritmo DPLL</p></tp>\n",
    "            </tr></table>\n",
    "        </td>\n",
    "    </tr>\n",
    "</table>\n",
    "\n",
    "---"
   ]
  },
  {
   "cell_type": "markdown",
   "metadata": {},
   "source": [
    "# Objetivo <a class=\"anchor\" id=\"inicio\"></a>\n",
    "\n",
    "Hasta este punto del curso hemos visto cómo resolver problemas, representando una situación mediante una fórmula de la lógica proposicional y buscando un modelo para ella. También vimos que los SATsolver que hemos desarrollado hasta este momento no son eficientes, toda vez que no pueden dar respuesta al problema de la rejilla con un tamaño $3\\times 3$. En efecto, tanto SATtabla como SATtableaux agotan los recursos del computador y no logran encontrar un modelo.\n",
    "\n",
    "En clase acabamos de ver el algoritmo DPLL para encontrar un modelo $I$ para una fórmula $S$ en forma clausal. En este notebook implementaremos el algoritmo DPLL en Python.\n",
    "\n",
    "Desarrollaremos la explicación mediante las siguientes secciones."
   ]
  },
  {
   "cell_type": "markdown",
   "metadata": {},
   "source": [
    "# Secciones\n",
    "\n",
    "1. [Funciones auxiliares](#aux)\n",
    "2. [Unit propagation](#unit)\n",
    "3. [DPLL](#dpll)\n",
    "4. [Solución de problemas](#sat)\n"
   ]
  },
  {
   "cell_type": "markdown",
   "metadata": {},
   "source": [
    "# Funciones auxiliares <a class=\"anchor\" id=\"aux\"></a>\n",
    "\n",
    "([Volver al inicio](#inicio))\n",
    "\n",
    "Para poder implementar el algoritmo DPLL de manera eficiente requerimos algunas funciones auxiliares:\n",
    "\n",
    "* `complemento()`: Sea $\\ell$ un literal. Se define \n",
    "\n",
    "`complemento`$(\\ell)=\\begin{cases}\n",
    "\\overline{p},&\\mbox { si }\\ell=p\\mbox{ para algún }p\\\\ \n",
    "p,&\\mbox{ si }\\ell=\\overline{p}\\mbox{ para algún }p\\\\\n",
    "\\end{cases}$\n",
    "\n",
    "* `eliminar_literal()`: Toma un conjunto de cláusulas $S$ y un literal $\\ell$ y devuelve el conjunto `S'` tal que:\n",
    "\n",
    "    - Se ha eliminado $C\\,{\\in}\\, S$ si $\\ell\\,{\\in}\\, C$,\n",
    "    - Se ha eliminado $\\ell^c$ de las demás cláusulas.\n",
    "\n",
    "* `extender_I()`: Toma un diccionario $I$ y un literal $\\ell$ y modifica el diccionario de manera tal que $\\ell$.valor($I$)=`True`.\n",
    "\n",
    "Implementaremos estas funciones una por una."
   ]
  },
  {
   "cell_type": "markdown",
   "metadata": {},
   "source": [
    "**Ejercicio 1:**\n",
    "\n",
    "Implemente la función `complemento()`."
   ]
  },
  {
   "cell_type": "code",
   "execution_count": 1,
   "outputs": [],
   "source": [
    "def complemento(l):\n",
    "    if len(l) == 1:\n",
    "        return '-'+ l\n",
    "    else:\n",
    "        return l[1]"
   ],
   "metadata": {
    "collapsed": false,
    "ExecuteTime": {
     "end_time": "2023-05-11T16:17:50.847617Z",
     "start_time": "2023-05-11T16:17:50.804443Z"
    }
   }
  },
  {
   "cell_type": "code",
   "execution_count": 3,
   "outputs": [
    {
     "name": "stdout",
     "output_type": "stream",
     "text": [
      "-p\n",
      "q\n"
     ]
    }
   ],
   "source": [
    "print(complemento('p'))\n",
    "print(complemento('-q'))"
   ],
   "metadata": {
    "collapsed": false,
    "ExecuteTime": {
     "end_time": "2023-05-11T16:19:04.333638Z",
     "start_time": "2023-05-11T16:19:04.290752Z"
    }
   }
  },
  {
   "cell_type": "markdown",
   "metadata": {},
   "source": [
    "---"
   ]
  },
  {
   "cell_type": "markdown",
   "metadata": {},
   "source": [
    "Presentamos las otras dos funciones auxiliares. Trate de comprender el código y el uso de la definición de listas por comprensión y listas anidadas. Estas líneas no sólamente son económicas en términos de espacio, sino que son muchísimo más eficientes que el uso de estructuras de control `while` y `for`."
   ]
  },
  {
   "cell_type": "code",
   "execution_count": 4,
   "metadata": {
    "ExecuteTime": {
     "end_time": "2023-05-11T16:22:38.138790Z",
     "start_time": "2023-05-11T16:22:38.100856Z"
    }
   },
   "outputs": [],
   "source": [
    "def eliminar_literal(S, l):\n",
    "    S1 = [c for c in S if l not in c]\n",
    "    lc = complemento(l)\n",
    "    return [[p for p in c if p != lc] for c in S1]\n",
    "\n",
    "def extender_I(I, l):\n",
    "    I1 = {k:I[k] for k in I if k != l}\n",
    "    if '-' in l:\n",
    "        I1[l[1:]] = False\n",
    "    else:\n",
    "        I1[l] = True\n",
    "    return I1"
   ]
  },
  {
   "cell_type": "markdown",
   "metadata": {},
   "source": [
    "Podemos comprobar el funcionamiento de estas funciones con el ejemplo que usamos en las diapositivas."
   ]
  },
  {
   "cell_type": "code",
   "execution_count": 5,
   "metadata": {
    "ExecuteTime": {
     "end_time": "2023-05-11T16:23:32.904848Z",
     "start_time": "2023-05-11T16:23:32.832007Z"
    }
   },
   "outputs": [
    {
     "data": {
      "text/plain": "[['p', '-q'], ['-p']]"
     },
     "execution_count": 5,
     "metadata": {},
     "output_type": "execute_result"
    }
   ],
   "source": [
    "S = [['p','-q'], ['-r'], ['-r','p'], ['-p','r']]\n",
    "l = '-r'\n",
    "eliminar_literal(S,l)"
   ]
  },
  {
   "cell_type": "code",
   "execution_count": 6,
   "metadata": {
    "ExecuteTime": {
     "end_time": "2023-05-11T16:23:37.838962Z",
     "start_time": "2023-05-11T16:23:37.787801Z"
    }
   },
   "outputs": [
    {
     "data": {
      "text/plain": "{'r': False}"
     },
     "execution_count": 6,
     "metadata": {},
     "output_type": "execute_result"
    }
   ],
   "source": [
    "I = {}\n",
    "l = '-r'\n",
    "extender_I(I, l)"
   ]
  },
  {
   "cell_type": "markdown",
   "metadata": {},
   "source": [
    "---"
   ]
  },
  {
   "cell_type": "markdown",
   "metadata": {},
   "source": [
    "# Unit propagation <a class=\"anchor\" id=\"unit\"></a>\n",
    "\n",
    "([Volver al inicio](#inicio))\n",
    "\n",
    "Mediante las funciones auxiliares podemos implementar la función `unit_propagate`."
   ]
  },
  {
   "cell_type": "code",
   "execution_count": 7,
   "metadata": {
    "ExecuteTime": {
     "end_time": "2023-05-11T16:23:48.682810Z",
     "start_time": "2023-05-11T16:23:48.633438Z"
    }
   },
   "outputs": [],
   "source": [
    "def unit_propagate(S, I):\n",
    "    '''\n",
    "    Algoritmo para eliminar clausulas unitarias de un conjunto de clausulas, manteniendo su satisfacibilidad\n",
    "    Input: \n",
    "        - S, conjunto de clausulas\n",
    "        - I, interpretacion (diccionario {literal: True/False})\n",
    "    Output: \n",
    "        - S, conjunto de clausulas\n",
    "        - I, interpretacion (diccionario {literal: True/False})\n",
    "    '''\n",
    "    while [] not in S:\n",
    "        l = ''\n",
    "        for x in S:\n",
    "            if len(x) == 1:\n",
    "                l = x[0]\n",
    "                S = eliminar_literal(S, l)\n",
    "                I = extender_I(I, l)\n",
    "                break\n",
    "        if l == '': # Se recorrió todo S y no se encontró unidad\n",
    "            break\n",
    "    return S, I"
   ]
  },
  {
   "cell_type": "markdown",
   "metadata": {},
   "source": [
    "Comprobamos el funcionamiento mediante el ejemplo de las diapositivas:"
   ]
  },
  {
   "cell_type": "code",
   "execution_count": 8,
   "metadata": {
    "ExecuteTime": {
     "end_time": "2023-05-11T16:23:53.938605Z",
     "start_time": "2023-05-11T16:23:53.911392Z"
    }
   },
   "outputs": [],
   "source": [
    "S = [['p','-q'], ['-r'], ['-r','p'], ['-p','r']]\n",
    "I = {}"
   ]
  },
  {
   "cell_type": "code",
   "execution_count": 9,
   "metadata": {
    "scrolled": true,
    "ExecuteTime": {
     "end_time": "2023-05-11T16:23:54.998698Z",
     "start_time": "2023-05-11T16:23:54.933010Z"
    }
   },
   "outputs": [
    {
     "data": {
      "text/plain": "([], {'r': False, 'p': False, 'q': False})"
     },
     "execution_count": 9,
     "metadata": {},
     "output_type": "execute_result"
    }
   ],
   "source": [
    "unit_propagate(S,I)"
   ]
  },
  {
   "cell_type": "markdown",
   "metadata": {},
   "source": [
    "---"
   ]
  },
  {
   "cell_type": "markdown",
   "metadata": {},
   "source": [
    "# DPLL <a class=\"anchor\" id=\"dpll\"></a>\n",
    "\n",
    "([Volver al inicio](#inicio))\n",
    "\n",
    "Presentamos ahora el algoritmo DPLL.\n",
    "\n",
    "<img src=\"./img/dpll.png\" width=\"auto\"/>"
   ]
  },
  {
   "cell_type": "markdown",
   "metadata": {},
   "source": [
    "**Ejercicio 2:**\n",
    "\n",
    "Implemente el algoritmo DPLL."
   ]
  },
  {
   "cell_type": "code",
   "execution_count": 32,
   "metadata": {
    "ExecuteTime": {
     "end_time": "2023-05-11T17:13:41.732500Z",
     "start_time": "2023-05-11T17:13:41.646723Z"
    }
   },
   "outputs": [
    {
     "data": {
      "text/plain": "('Satisfacible', {'r': True, 'p': True, 'q': True})"
     },
     "execution_count": 32,
     "metadata": {},
     "output_type": "execute_result"
    }
   ],
   "source": [
    "from random import choice\n",
    "\n",
    "def dpll(S, I):\n",
    "    '''\n",
    "    Algoritmo para verificar la satisfacibilidad de una formula, y encontrar un modelo de la misma\n",
    "    Input: \n",
    "        - S, conjunto de clausulas\n",
    "        - I, interpretacion (diccionario literal->True/False)\n",
    "    Output: \n",
    "        - String, Satisfacible/Insatisfacible\n",
    "        - I ,interpretacion (diccionario literal->True/False)\n",
    "    '''\n",
    "    x, y = unit_propagate(S,I)\n",
    "    if [] in x:\n",
    "        return 'Instatisfacible ', '{}'\n",
    "    elif x == []:\n",
    "        return 'Satisfacible', y\n",
    "    l2 = (x[0][0])\n",
    "    s1 = eliminar_literal(x,l2)\n",
    "    I2 = extender_I(y, l2)\n",
    "\n",
    "    if dpll (s1, I2)[0] == \"Satisfacible\":\n",
    "        return 'Satisfacible', dpll(s1,I2)[1]\n",
    "    else:\n",
    "        s2 = eliminar_literal(x, complemento(l2))\n",
    "        I3 = extender_I(y, complemento(l2))\n",
    "        return dpll(s2,I3)\n",
    "\n",
    "S = [['r'], ['p', '-r'], ['q', '-r'], ['-p', '-q', 'r']]\n",
    "I = {}\n",
    "\n",
    "dpll(S,I)"
   ]
  },
  {
   "cell_type": "markdown",
   "metadata": {},
   "source": [
    "Pruebe su respuesta con los siguientes ejemplos:\n",
    "\n",
    "1. `S = [['r'], ['p', '-r'], ['q', '-r'], ['-p', '-q', 'r']]` \n",
    "\n",
    "Solución:  $I\\,{=}\\,\\{r: True, p: True, q: True\\}$.\n",
    "\n",
    "2. `S=[['s'], ['-r', '-q'], ['r', 'q'], ['p', '-s'], ['r', '-s'], ['-p', '-r', 's']]` \n",
    "\n",
    "Solución: $I\\,{=}\\,\\{s: True, p: True, r: True, q: False\\}$.\n",
    "\n",
    "3. `S = [['s'], ['p','-t'], ['q','-t'], ['-p','-q','t'], ['t','-s'], ['r','-s'], ['-t','-r','s']]` \n",
    "\n",
    "Solución: $I\\,{=}\\,\\{s: True, t: True, p: True, q: True, r: True\\}$.\n",
    "\n",
    "4. `S = [['p','-q'],['-p','-q'],['q','r'],['-q''-r'],['-p','-r'],['p','-r']]` \n",
    "\n",
    "Solución: insatisfacible.\n"
   ]
  },
  {
   "cell_type": "markdown",
   "metadata": {},
   "source": [
    "---"
   ]
  },
  {
   "cell_type": "markdown",
   "metadata": {},
   "source": [
    "# Solución de problemas <a class=\"anchor\" id=\"sat\"></a>\n",
    "\n",
    "([Volver al inicio](#inicio))\n",
    "\n",
    "Retomaremos aquí el problema con el que estudiamos la representación de situaciones. Buscamos llenar todas las casillas en una tabla 2x2 con un número de 0 a 3, sin repetir. Por ejemplo:\n",
    "\n",
    "![ejemplo](img/tabla.png)\n",
    "\n",
    "Tenemos tres restricciones que debemos implementar para resolver el problema:\n",
    "\n",
    "1. Un número sólo está en una casilla.\n",
    "\n",
    "2. No hay más de un número en una casilla.\n",
    "\n",
    "3. Debe haber por lo menos un número en una casilla.\n",
    "\n",
    "Las reglas ya están implementadas en la clase `Rejilla`."
   ]
  },
  {
   "cell_type": "code",
   "execution_count": 29,
   "metadata": {
    "ExecuteTime": {
     "end_time": "2023-05-11T17:07:06.451299Z",
     "start_time": "2023-05-11T17:07:06.376950Z"
    }
   },
   "outputs": [],
   "source": [
    "from Problemas import Rejilla\n",
    "from Logica import *"
   ]
  },
  {
   "cell_type": "markdown",
   "metadata": {},
   "source": [
    "Buscamos una solución mediante el DPLL:"
   ]
  },
  {
   "cell_type": "code",
   "execution_count": null,
   "metadata": {
    "is_executing": true
   },
   "outputs": [],
   "source": [
    "%%time\n",
    "r = Rejilla(N=3, M=3)\n",
    "A = Ytoria(r.reglas)\n",
    "S = tseitin(A)\n",
    "S, I = dpll(S, {})\n",
    "if I != None:\n",
    "    r.visualizar(I)\n",
    "else:\n",
    "    print('¡No hay solución!')"
   ]
  },
  {
   "cell_type": "markdown",
   "metadata": {},
   "source": [
    "Vemos que se obtiene una respuesta y que el algoritmo es bastante rápido."
   ]
  },
  {
   "cell_type": "markdown",
   "metadata": {},
   "source": [
    "---"
   ]
  }
 ],
 "metadata": {
  "kernelspec": {
   "display_name": "Python 3",
   "language": "python",
   "name": "python3"
  },
  "language_info": {
   "codemirror_mode": {
    "name": "ipython",
    "version": 3
   },
   "file_extension": ".py",
   "mimetype": "text/x-python",
   "name": "python",
   "nbconvert_exporter": "python",
   "pygments_lexer": "ipython3",
   "version": "3.8.5"
  }
 },
 "nbformat": 4,
 "nbformat_minor": 4
}
