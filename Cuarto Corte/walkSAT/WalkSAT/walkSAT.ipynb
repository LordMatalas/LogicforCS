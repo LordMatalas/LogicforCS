{
 "cells": [
  {
   "cell_type": "markdown",
   "metadata": {},
   "source": [
    "    <table>\n",
    "    <tr>\n",
    "        <td><img src=\"./img/Macc.png\" width=\"auto\"/></td>\n",
    "        <td>\n",
    "            <table><tr>\n",
    "            <h1 style=\"color:blue;text-align:center\">Lógica para Ciencias de la Computación</h1></td>\n",
    "            </tr></table>   \n",
    "        <td>&nbsp;</td>\n",
    "        <td>\n",
    "            <table><tr>\n",
    "            <tp><p style=\"font-size:150%;text-align:center\">Taller</p></tp>\n",
    "            <tp><p style=\"font-size:150%;text-align:center\">Algoritmo WalkSAT</p></tp>\n",
    "            </tr></table>\n",
    "        </td>\n",
    "    </tr>\n",
    "    </table>\n",
    "\n",
    "---"
   ]
  },
  {
   "cell_type": "markdown",
   "metadata": {},
   "source": [
    "# Objetivo <a class=\"anchor\" id=\"inicio\"></a>\n",
    "\n",
    "En clase hemos visto el algoritmo walkSAT para encontrar un modelo $I$ para una fórmula $S$ en forma clausal. En este notebook implementaremos este algoritmo en Python.\n",
    "\n",
    "Desarrollaremos la explicación mediante las siguientes secciones."
   ]
  },
  {
   "cell_type": "markdown",
   "metadata": {},
   "source": [
    "# Secciones\n",
    "\n",
    "1. [Funciones auxiliares](#aux)\n",
    "2. [Walksat](#walk)\n",
    "3. [Comparación de tiempos](#comp)\n"
   ]
  },
  {
   "cell_type": "markdown",
   "metadata": {},
   "source": [
    "# Funciones auxiliares <a class=\"anchor\" id=\"aux\"></a>\n",
    "\n",
    "([Volver al inicio](#inicio))\n",
    "\n",
    "Para poder implementar el algoritmo walkSAT requerimos algunas funciones auxiliares:\n",
    "\n",
    "* `interpretacion_aleatoria(letrasp)`: Devuelve una interpretación seleccionando aleatoriamente el valor True o False para cada letra proposicional en `letrasp`. \n",
    "\n",
    "`flip_literal`$(I, \\ell)$: Modifica el valor de verdad asignado por la interpretación $I$ al literal $\\ell$."
   ]
  },
  {
   "cell_type": "code",
   "execution_count": 2,
   "metadata": {
    "ExecuteTime": {
     "end_time": "2023-05-18T17:16:28.646418Z",
     "start_time": "2023-05-18T17:16:28.637855Z"
    }
   },
   "outputs": [],
   "source": [
    "from random import randint\n",
    "from random import choice\n",
    "from copy import deepcopy\n",
    "from Logica import *\n",
    "\n",
    "def interpretacion_aleatoria(letrasp):\n",
    "    I = {p:randint(0,1)==1 for p in letrasp}\n",
    "    return I\n",
    "\n",
    "def flip_literal(I, l):\n",
    "    p = l[-1]\n",
    "    valor = False if I[p] else True\n",
    "    Ip = deepcopy(I)\n",
    "    Ip[p] = valor\n",
    "    return Ip"
   ]
  },
  {
   "cell_type": "code",
   "execution_count": 3,
   "metadata": {
    "ExecuteTime": {
     "end_time": "2023-05-18T17:16:28.778252Z",
     "start_time": "2023-05-18T17:16:28.662875Z"
    }
   },
   "outputs": [
    {
     "data": {
      "text/plain": "{'p': False, 'q': False, 'r': True}"
     },
     "execution_count": 3,
     "metadata": {},
     "output_type": "execute_result"
    }
   ],
   "source": [
    "letrasp = ['p', 'q', 'r']\n",
    "I = interpretacion_aleatoria(letrasp)\n",
    "I"
   ]
  },
  {
   "cell_type": "code",
   "execution_count": 4,
   "metadata": {
    "ExecuteTime": {
     "end_time": "2023-05-18T17:16:28.780873Z",
     "start_time": "2023-05-18T17:16:28.680069Z"
    }
   },
   "outputs": [
    {
     "data": {
      "text/plain": "{'p': True, 'q': False, 'r': True}"
     },
     "execution_count": 4,
     "metadata": {},
     "output_type": "execute_result"
    }
   ],
   "source": [
    "I = flip_literal(I, 'p')\n",
    "I"
   ]
  },
  {
   "cell_type": "markdown",
   "metadata": {},
   "source": [
    "Para manejar la información sobre las letras proposicionales y las cláusulas de la fórmula que vayamos a trabajar, hemos definido una clase `WalkSatEstado` de la siguiente manera:"
   ]
  },
  {
   "cell_type": "code",
   "execution_count": 5,
   "metadata": {
    "ExecuteTime": {
     "end_time": "2023-05-18T17:16:28.781867Z",
     "start_time": "2023-05-18T17:16:28.697330Z"
    }
   },
   "outputs": [],
   "source": [
    "class WalkSatEstado():\n",
    "    \n",
    "    def __init__(self, S):\n",
    "        self.S = S\n",
    "        self.letrasp = list(set([l[-1] for C in self.S for l in C]))\n",
    "        self.I = interpretacion_aleatoria(self.letrasp)\n",
    "        self.I_lits = set([p for p in self.letrasp if self.I[p]] + ['-'+p for p in self.letrasp if not self.I[p]])\n",
    "        self.clausulas_sat = [C for C in self.S if any((True for x in self.I_lits if x in C))]\n",
    "        self.clausulas_unsat = [C for C in self.S if C not in self.clausulas_sat]\n",
    "\n",
    "    def actualizar(self, I):\n",
    "        self.I = I\n",
    "        self.I_lits = set([p for p in self.letrasp if self.I[p]] + ['-'+p for p in self.letrasp if not self.I[p]])\n",
    "        self.clausulas_sat = [C for C in self.S if any((True for x in self.I_lits if x in C))]\n",
    "        self.clausulas_unsat = [C for C in self.S if C not in self.clausulas_sat]\n",
    "       \n",
    "    def SAT(self):\n",
    "        return len(self.clausulas_unsat) == 0\n",
    "\n",
    "    def break_count(self, l):\n",
    "        clausulas_break_count = [C for C in self.clausulas_sat if set(C).intersection(self.I_lits)==set([l])]\n",
    "        return len(clausulas_break_count)"
   ]
  },
  {
   "cell_type": "markdown",
   "metadata": {},
   "source": [
    "Consideremos una fórmula en forma clausal y veamos el correspondiente objeto `WalkSatEstado`:"
   ]
  },
  {
   "cell_type": "code",
   "execution_count": 6,
   "metadata": {
    "ExecuteTime": {
     "end_time": "2023-05-18T17:16:28.788092Z",
     "start_time": "2023-05-18T17:16:28.739767Z"
    }
   },
   "outputs": [
    {
     "name": "stdout",
     "output_type": "stream",
     "text": [
      "Fórmula: [['r'], ['p', '-r'], ['q', '-r'], ['-p', '-q', 'r']]\n",
      "Letras proposicionales: ['p', 'q', 'r']\n",
      "Interpretación: {'p': False, 'q': True, 'r': True}\n",
      "Literales determinados por la interpretación: {'-p', 'q', 'r'}\n",
      "Cláusulas sat: [['r'], ['q', '-r'], ['-p', '-q', 'r']]\n",
      "Cláusulas unsat [['p', '-r']]\n",
      "I hace verdadera la fórmula?: False\n"
     ]
    }
   ],
   "source": [
    "S = [['r'], ['p', '-r'], ['q', '-r'], ['-p', '-q', 'r']]\n",
    "w = WalkSatEstado(S)\n",
    "print(\"Fórmula:\", S)\n",
    "print(\"Letras proposicionales:\", w.letrasp)\n",
    "print(\"Interpretación:\", w.I)\n",
    "print(\"Literales determinados por la interpretación:\", w.I_lits)\n",
    "print(\"Cláusulas sat:\", w.clausulas_sat)\n",
    "print(\"Cláusulas unsat\", w.clausulas_unsat)\n",
    "print(\"I hace verdadera la fórmula?:\", w.SAT())"
   ]
  },
  {
   "cell_type": "markdown",
   "metadata": {},
   "source": [
    "Observe que esta clase tiene definido el método `break_count()` para determinar cuántas cláusulas sat se vuelven unsat si se voltea el valor de un literal:"
   ]
  },
  {
   "cell_type": "code",
   "execution_count": 7,
   "metadata": {
    "ExecuteTime": {
     "end_time": "2023-05-18T17:16:28.790153Z",
     "start_time": "2023-05-18T17:16:28.761025Z"
    }
   },
   "outputs": [
    {
     "data": {
      "text/plain": "0"
     },
     "execution_count": 7,
     "metadata": {},
     "output_type": "execute_result"
    }
   ],
   "source": [
    "w.break_count('-r')"
   ]
  },
  {
   "cell_type": "markdown",
   "metadata": {},
   "source": [
    "---"
   ]
  },
  {
   "cell_type": "markdown",
   "metadata": {},
   "source": [
    "# WalkSAT <a class=\"anchor\" id=\"walk\"></a>\n",
    "\n",
    "([Volver al inicio](#inicio))\n",
    "\n",
    "Presentamos ahora el algoritmo walkSAT.\n",
    "\n",
    "<img src=\"./img/walksat.png\" width=\"auto\"/>"
   ]
  },
  {
   "cell_type": "markdown",
   "metadata": {},
   "source": [
    "**Ejercicio 1:**\n",
    "\n",
    "Implemente la función `walkSAT`.\n",
    "\n",
    "Pruebe su respuesta con los siguientes ejemplos:\n",
    "\n",
    "1. `S = [['r'], ['p', '-r'], ['q', '-r'], ['-p', '-q', 'r']]` \n",
    "\n",
    "Solución:  $I\\,{=}\\,\\{r: True, p: True, q: True\\}$.\n",
    "\n",
    "2. `S=[['s'], ['-r', '-q'], ['r', 'q'], ['p', '-s'], ['r', '-s'], ['-p', '-r', 's']]` \n",
    "\n",
    "Solución: $I\\,{=}\\,\\{s: True, p: True, r: True, q: False\\}$.\n",
    "\n",
    "3. `S = [['s'], ['p','-t'], ['q','-t'], ['-p','-q','t'], ['t','-s'], ['r','-s'], ['-t','-r','s']]` \n",
    "\n",
    "Solución: $I\\,{=}\\,\\{s: True, t: True, p: True, q: True, r: True\\}$.\n",
    "\n",
    "4. `S = [['p','-q'],['-p','-q'],['q','r'],['-q''-r'],['-p','-r'],['p','-r']]` \n",
    "\n",
    "Solución: Intento fallido."
   ]
  },
  {
   "cell_type": "code",
   "execution_count": 20,
   "outputs": [],
   "source": [
    "from random import *\n",
    "\n",
    "def walkSAT(A, max_flips = 1000, max_tries = 100, p=.5):\n",
    "    for i in range(max_tries):\n",
    "        w = WalkSatEstado(A)\n",
    "        for j in range(max_flips):\n",
    "            if w.SAT():\n",
    "                return (\"Satisfacible\"), I\n",
    "            else:\n",
    "                C= choice(w.clausulas_unsat)\n",
    "                flag_cero = False\n",
    "                for x in C:\n",
    "                    if w.break_count(x) == 0:\n",
    "                        v = x\n",
    "                        flag_cero = True\n",
    "                        break\n",
    "                    if not flag_cero:\n",
    "                        r = random()\n",
    "                        if r <= p:\n",
    "                            v = choice(C)\n",
    "                        else:\n",
    "                            minimo = float('Inf')\n",
    "                            for x in C:\n",
    "                                value = w.break_count(x)\n",
    "                                if value < minimo:\n",
    "                                    minimo = value\n",
    "                    I = flip_literal(w.I, v)\n",
    "                    w.actualizar(I)\n",
    "                return (\"Insatisfacible\", w.I)\n",
    "        return None\n"
   ],
   "metadata": {
    "collapsed": false,
    "ExecuteTime": {
     "end_time": "2023-05-18T17:17:41.170802Z",
     "start_time": "2023-05-18T17:17:41.145317Z"
    }
   }
  },
  {
   "cell_type": "code",
   "execution_count": 21,
   "metadata": {
    "scrolled": true,
    "ExecuteTime": {
     "end_time": "2023-05-18T17:17:42.021746Z",
     "start_time": "2023-05-18T17:17:41.988546Z"
    }
   },
   "outputs": [
    {
     "data": {
      "text/plain": "('Insatisfacible', {'p': True, 'q': False, 'r': False})"
     },
     "execution_count": 21,
     "metadata": {},
     "output_type": "execute_result"
    }
   ],
   "source": [
    "S = [['r'], ['p', '-r'], ['q', '-r'], ['-p', '-q', 'r']]\n",
    "walkSAT(S)"
   ]
  },
  {
   "cell_type": "code",
   "execution_count": 44,
   "metadata": {
    "scrolled": true,
    "ExecuteTime": {
     "end_time": "2023-05-16T17:41:55.412602Z",
     "start_time": "2023-05-16T17:41:55.385002Z"
    }
   },
   "outputs": [
    {
     "data": {
      "text/plain": "('Satisfacible', {'p': True, 's': True, 'q': True, 'r': False})"
     },
     "execution_count": 44,
     "metadata": {},
     "output_type": "execute_result"
    }
   ],
   "source": [
    "S = [['s'], ['-r', '-q'], ['r', 'q'], ['p', '-s'], ['r', '-s'], ['-p', '-r', 's']]\n",
    "walkSAT(S)"
   ]
  },
  {
   "cell_type": "code",
   "execution_count": 10,
   "metadata": {},
   "outputs": [
    {
     "data": {
      "text/plain": [
       "('Satisfacible', {'s': True, 'r': True, 'p': True, 't': True, 'q': True})"
      ]
     },
     "execution_count": 10,
     "metadata": {},
     "output_type": "execute_result"
    }
   ],
   "source": [
    "S = [['s'], ['p','-t'], ['q','-t'], ['-p','-q','t'], ['t','-s'], ['r','-s'], ['-t','-r','s']]\n",
    "walkSAT(S)"
   ]
  },
  {
   "cell_type": "code",
   "execution_count": 41,
   "metadata": {
    "ExecuteTime": {
     "end_time": "2023-05-16T17:40:12.941375Z",
     "start_time": "2023-05-16T17:40:12.909298Z"
    }
   },
   "outputs": [
    {
     "data": {
      "text/plain": "('Satisfacible', {'p': False, 'q': True, 'r': False})"
     },
     "execution_count": 41,
     "metadata": {},
     "output_type": "execute_result"
    }
   ],
   "source": [
    "S = [['p','-q'],['-p','-q'],['q','r'],['-q','-r'],['-p','-r'],['p','-r']]\n",
    "walkSAT(S)"
   ]
  },
  {
   "cell_type": "markdown",
   "metadata": {},
   "source": [
    "---"
   ]
  },
  {
   "cell_type": "markdown",
   "metadata": {},
   "source": [
    "# Comparación de tiempos <a class=\"anchor\" id=\"comp\"></a>\n",
    "\n",
    "([Volver al inicio](#inicio))\n",
    "\n",
    "Comparamos los tiempos de búsqueda de modelo para fórmulas aleatorias cada vez más grandes, entre los algoritmos DPLL y walkSAT."
   ]
  },
  {
   "cell_type": "markdown",
   "metadata": {},
   "source": [
    "**Ejercicio 2:**\n",
    "\n",
    "Incluya aquí su implementación del DPLL."
   ]
  },
  {
   "cell_type": "code",
   "execution_count": 73,
   "metadata": {
    "ExecuteTime": {
     "end_time": "2023-05-16T17:53:51.359080Z",
     "start_time": "2023-05-16T17:53:51.341776Z"
    }
   },
   "outputs": [],
   "source": [
    "def dpll(S, I):\n",
    "    (x,y)=unit_propagate(S, I)\n",
    "    if [] in x:\n",
    "        return \"insatisfacible\", {}\n",
    "    if x == []:\n",
    "        return \"satisfacible\", y\n",
    "    l2 = (x[0])[0]\n",
    "    S2 = eliminar_literal(x, l2)\n",
    "    I2 = extender_I(y, l2)\n",
    "    if (dpll(S2,I2))[0] == \"satisfacible\":\n",
    "        return \"satisfacible\", (dpll(S2,I2))[1]\n",
    "    else:\n",
    "        S3 = eliminar_literal(x, complemento(l2))\n",
    "        I3 = extender_I(y,complemento(l2))\n",
    "        return dpll(S3,I3)"
   ]
  },
  {
   "cell_type": "markdown",
   "metadata": {},
   "source": [
    "---"
   ]
  },
  {
   "cell_type": "code",
   "execution_count": 74,
   "metadata": {
    "ExecuteTime": {
     "end_time": "2023-05-16T17:53:53.634548Z",
     "start_time": "2023-05-16T17:53:53.632775Z"
    }
   },
   "outputs": [],
   "source": [
    "from time import time\n",
    "import seaborn as sns\n",
    "import pandas as pd\n",
    "import matplotlib.pyplot as plt\n",
    "\n",
    "def obtiene_tiempos(fun, args, num_it=100):\n",
    "    tiempos_fun = []\n",
    "    for i in range(num_it):\n",
    "        arranca = time()\n",
    "        x = fun(*args)\n",
    "        para = time()\n",
    "        tiempos_fun.append(para - arranca)\n",
    "    return tiempos_fun\n",
    "\n",
    "def compara_entradas_funs(funs, nombres_funs, lista_args, N=100):\n",
    "    entradas = []\n",
    "    funcion = []\n",
    "    tiempos = []\n",
    "    lista_dfs = []\n",
    "    for i, args in enumerate(lista_args):\n",
    "        for j, fun in enumerate(funs):\n",
    "            t = obtiene_tiempos(fun, [args], N)\n",
    "            tiempos += t\n",
    "            n = len(t)\n",
    "            entradas += [i+1]*n\n",
    "            funcion += [nombres_funs[j]]*n\n",
    "        df = pd.DataFrame({'Long_entrada':entradas, \n",
    "                           'Funcion':funcion,\n",
    "                           'Tiempo_prom':tiempos})\n",
    "        lista_dfs.append(df)\n",
    "    df = pd.concat(lista_dfs).reset_index()\n",
    "    sns.lineplot(x='Long_entrada',y='Tiempo_prom',hue='Funcion',data=df)\n",
    "    plt.show()"
   ]
  },
  {
   "cell_type": "code",
   "execution_count": 75,
   "metadata": {
    "ExecuteTime": {
     "end_time": "2023-05-16T17:53:54.615118Z",
     "start_time": "2023-05-16T17:53:54.590714Z"
    }
   },
   "outputs": [],
   "source": [
    "from random import uniform, choice\n",
    "cantidad = 10\n",
    "letras = [chr(i) for i in range(256, 256+cantidad)]\n",
    "lista = [letras[0]]\n",
    "formula = letras[0]\n",
    "for p in letras[1:]:\n",
    "            neg1 = '-' if uniform(0,1) > .5 else ''\n",
    "            neg2 = '-' if uniform(0,1) > .5 else ''\n",
    "            neg3 = '-' if uniform(0,1) > .5 else ''\n",
    "            conectivo = choice(['Y','O','>'])\n",
    "            if uniform(0,1) > .5:\n",
    "                formula = neg1 + \"(\" + neg2 + formula + conectivo + neg3 + p + \")\"\n",
    "            else:\n",
    "                formula = neg1 + \"(\" + neg2 + p + conectivo + neg3 + formula + \")\"\n",
    "            lista.append(formula)"
   ]
  },
  {
   "cell_type": "code",
   "execution_count": 78,
   "metadata": {
    "ExecuteTime": {
     "end_time": "2023-05-16T17:54:57.075759Z",
     "start_time": "2023-05-16T17:54:47.018335Z"
    }
   },
   "outputs": [
    {
     "data": {
      "text/plain": "<Figure size 640x480 with 1 Axes>",
      "image/png": "[encoded data removed]"
     },
     "metadata": {},
     "output_type": "display_data"
    }
   ],
   "source": [
    "nombres = ['dpll', 'walksat']\n",
    "sat_dpll = lambda formula: dpll(tseitin(formula), {})\n",
    "sat_walksat = lambda formula: walkSAT(tseitin(formula))\n",
    "funs = [sat_dpll, sat_walksat]\n",
    "compara_entradas_funs(funs, nombres, lista)"
   ]
  },
  {
   "cell_type": "markdown",
   "metadata": {},
   "source": [
    "Vemos que en todos los casos el DPLL es más rápido que el walkSAT."
   ]
  },
  {
   "cell_type": "markdown",
   "metadata": {},
   "source": [
    "---"
   ]
  }
 ],
 "metadata": {
  "kernelspec": {
   "display_name": "Python 3",
   "language": "python",
   "name": "python3"
  },
  "language_info": {
   "codemirror_mode": {
    "name": "ipython",
    "version": 3
   },
   "file_extension": ".py",
   "mimetype": "text/x-python",
   "name": "python",
   "nbconvert_exporter": "python",
   "pygments_lexer": "ipython3",
   "version": "3.8.5"
  }
 },
 "nbformat": 4,
 "nbformat_minor": 4
}
