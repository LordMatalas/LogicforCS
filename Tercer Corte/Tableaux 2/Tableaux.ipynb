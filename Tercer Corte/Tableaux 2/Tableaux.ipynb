{
 "cells": [
  {
   "attachments": {},
   "cell_type": "markdown",
   "metadata": {},
   "source": [
    "<table>\n",
    "    <tr>\n",
    "        <td><img src=\"./img/Macc.png\" width=\"auto\"/></td>\n",
    "        <td>\n",
    "            <table><tr>\n",
    "            <h1 style=\"color:blue;text-align:center\">Lógica para Ciencias de la Computación</h1></td>\n",
    "            </tr></table>   \n",
    "        <td>&nbsp;</td>\n",
    "        <td>\n",
    "            <table><tr>\n",
    "            <tp><p style=\"font-size:150%;text-align:center\">Taller</p></tp>\n",
    "            <tp><p style=\"font-size:150%;text-align:center\">Implementación de Tableaux</p></tp>\n",
    "            </tr></table>\n",
    "        </td>\n",
    "    </tr>\n",
    "</table>\n",
    "\n",
    "---"
   ]
  },
  {
   "attachments": {},
   "cell_type": "markdown",
   "metadata": {},
   "source": [
    "# Objetivos <a class=\"anchor\" id=\"inicio\"></a>\n",
    "\n",
    "El objetivo de este notebook es implementar el algoritmo de construcción de tableros semánticos (tableaux). El método de los tableaux es un SATsolver, el cual recibe una fórmula y devuelve una interpretación de la misma, si es que existe, o informa que la fórmula es insatisfacible. Veremos diferentes maneras de implementar este método, dependiendo de distintas maneras de expandir el árbol del tableaux."
   ]
  },
  {
   "attachments": {},
   "cell_type": "markdown",
   "metadata": {},
   "source": [
    "\n",
    "# Secciones\n",
    "\n",
    "1. [Clasificación de fórmulas para tableaux.](#clas)\n",
    "2. [Expansión primero en anchura.](#anchura)\n",
    "3. [Expansión primero en profundidad.](#prof)\n",
    "4. [Recorrido backtracking.](#backt)\n",
    "5. [Eficiencia de los algoritmos (opcional).](#efi)"
   ]
  },
  {
   "attachments": {},
   "cell_type": "markdown",
   "metadata": {},
   "source": [
    "# Clasificación de fórmulas para tableaux <a class=\"anchor\" id=\"clas\"></a>\n",
    "\n",
    "([Volver al inicio](#inicio))\n",
    "\n",
    "Recordemos el siguiente diagrama de flujo para la implementación de un tableaux $\\tau$ para una fórmula $A$:\n",
    "\n",
    "<img src=\"./img/flow.png\" width=\"auto\"/>\n",
    "\n",
    "Hay tres elementos centrales en este algoritmo:\n",
    "\n",
    "* Nodos.\n",
    "* Selección del próximo nodo a expandir.\n",
    "* Clasificación de una fórmula como $\\alpha$ o $\\beta$.\n",
    "\n",
    "En esta sección veremos la clasificación de fórmulas y la implementación de los nodos. En las subsiguientes secciones veremos tres maneras distintas de seleccionar el próximo nodo a expandir."
   ]
  },
  {
   "attachments": {},
   "cell_type": "markdown",
   "metadata": {
    "collapsed": false
   },
   "source": [
    "### Clasificación de una fórmula como $\\alpha$ o $\\beta$\n",
    "\n",
    "Para realizar la implementación de los tableaux, el orden más apropiado es primero implementar la clasificación de fórmulas. Hemos visto que toda fórmula o es un literal, o puede clasificarse como una fórmula de tipo $\\alpha$ o $\\beta$. Para referencia, repetimos las clasificaciones en la siguiente figura:\n",
    "\n",
    "<img src=\"./img/clasif.png\" width=\"200px\"/>\n",
    "\n",
    "En el siguiente código hemos implementado la clasificación para dos casos: literales y fórmulas 1$\\alpha$:"
   ]
  },
  {
   "cell_type": "code",
   "execution_count": 24,
   "metadata": {
    "ExecuteTime": {
     "end_time": "2023-04-17T17:32:26.782804Z",
     "start_time": "2023-04-17T17:32:26.782403Z"
    }
   },
   "outputs": [],
   "source": [
    "from Logica import *"
   ]
  },
  {
   "cell_type": "code",
   "execution_count": 25,
   "metadata": {
    "ExecuteTime": {
     "end_time": "2023-04-17T17:32:28.547275Z",
     "start_time": "2023-04-17T17:32:28.546558Z"
    }
   },
   "outputs": [],
   "source": [
    "def clasifica_para_tableaux(self):\n",
    "    if type(self) == Letra:\n",
    "        return None, 'literal'          # Literal positivo\n",
    "    elif type(self) == Negacion:\n",
    "        if type(self.subf) == Letra:\n",
    "            return None, 'literal'      # Literal negativo\n",
    "        elif type(self.subf) == Negacion:\n",
    "            return 1, 'alfa'            # Fórmula 1 alfa\n",
    "        if  self.subf.conectivo == 'O':\n",
    "            return 3, 'alfa'\n",
    "        elif self.subf.conectivo == '>':\n",
    "            return 4, 'alfa'\n",
    "        else:\n",
    "            return 1, 'beta'\n",
    "\n",
    "    elif type(self) == Binario:\n",
    "        if self.conectivo == 'Y':\n",
    "            return 2, 'alfa'\n",
    "        elif self.conectivo == 'O':\n",
    "            return 2, 'beta'\n",
    "        elif self.conectivo == '>':\n",
    "            return 3, 'beta'\n",
    "\n",
    "setattr(Formula,\"clasifica_para_tableaux\",clasifica_para_tableaux)"
   ]
  },
  {
   "attachments": {},
   "cell_type": "markdown",
   "metadata": {},
   "source": [
    "**Ejercicio 1:**\n",
    "\n",
    "Complete la anterior función `clasifica_para_tableaux` para clasificar el resto de fórmulas de acuerdo a su tipo. Pruebe su implementación con las siguientes fórmulas:"
   ]
  },
  {
   "cell_type": "code",
   "execution_count": 26,
   "metadata": {
    "ExecuteTime": {
     "end_time": "2023-04-17T17:32:30.087138Z",
     "start_time": "2023-04-17T17:32:30.086789Z"
    }
   },
   "outputs": [
    {
     "name": "stdout",
     "output_type": "stream",
     "text": [
      "(1, 'alfa')\n",
      "(2, 'alfa')\n",
      "(3, 'alfa')\n",
      "(4, 'alfa')\n",
      "(1, 'beta')\n",
      "(2, 'beta')\n",
      "(3, 'beta')\n"
     ]
    }
   ],
   "source": [
    "f = '--(-(pOq)Y-(r>s))'  # 1, alfa\n",
    "A = inorder_to_tree(f)\n",
    "print(A.clasifica_para_tableaux())\n",
    "\n",
    "f = '(-(pOq)Y-(r>s))'  # 2, alfa\n",
    "A = inorder_to_tree(f)\n",
    "print(A.clasifica_para_tableaux())\n",
    "\n",
    "f = '-(pOq)'  # 3, alfa\n",
    "A = inorder_to_tree(f)\n",
    "print(A.clasifica_para_tableaux())\n",
    "\n",
    "f = '-(r>s)' # 4, alfa\n",
    "A = inorder_to_tree(f)\n",
    "print(A.clasifica_para_tableaux())\n",
    "\n",
    "f = '-(pYq)' # 1, beta\n",
    "A = inorder_to_tree(f)\n",
    "print(A.clasifica_para_tableaux())\n",
    "\n",
    "f = '(-(pYq)O(r>s))' # 2, beta\n",
    "A = inorder_to_tree(f)\n",
    "print(A.clasifica_para_tableaux())\n",
    "\n",
    "f = '(r>s)' # 3, beta\n",
    "A = inorder_to_tree(f)\n",
    "print(A.clasifica_para_tableaux())"
   ]
  },
  {
   "attachments": {},
   "cell_type": "markdown",
   "metadata": {},
   "source": [
    "---"
   ]
  },
  {
   "attachments": {},
   "cell_type": "markdown",
   "metadata": {},
   "source": [
    "### Implementación de los nodos\n",
    "\n",
    "El tableaux que vamos a implementar es un árbol basado en nodos. Los nodos son de la clase `nodos_tableaux` que se encuentra en la librería `Logica`. La descripción de la clase es la siguiente:\n",
    "\n",
    "**Atributos:**\n",
    "\n",
    "* `alfas`: una lista con las fórmulas tipo $\\alpha$, representadas como una 4-tupla que incluye la fórmula como árbol, como cadena, el número de la regla y la cadena 'alfa'.\n",
    "* `betas`: una lista con las fórmulas tipo $\\beta$, representadas como una 4-tupla que incluye la fórmula como árbol, como cadena, el número de la regla y la cadena 'beta'.\n",
    "* `literales`: una lista con los literales, representados como una 4-tupla que incluye la fórmula como árbol, como cadena, None y la cadena 'literal'.\n",
    "\n",
    "**Métodos:**\n",
    "\n",
    "* `tiene_lit_comp`: retorna `True` si self.`literales` tiene un par complementario de literales.\n",
    "* `es_hoja`: retorna 'Cerrada' si self.`literales` tiene un par complementario de literales; 'Abierta' si self.`literales` NO tiene un par complementario de literales y no tiene reglas ni alfa ni beta; None en otro caso.\n",
    "* `interp`: retorna un diccionario que hace veradero a todos los literales en self.`literales`.\n",
    "* `expandir`: retorna un `nodo_tableaux` que es el resultado de aplicar la primera regla $\\alpha$. Si no hay reglas $\\alpha$, retorna dos `nodo_tableaux` que son el resultado de aplicar la primera regla $\\beta$. Si no hay reglas $\\beta$, retorna None, None.\n",
    "\n",
    "Para ilustrar esta clase, instanciemos un objeto a partir de una fórmula $\\alpha$, una $\\beta$ y un literal:"
   ]
  },
  {
   "cell_type": "code",
   "execution_count": 27,
   "metadata": {
    "ExecuteTime": {
     "end_time": "2023-04-17T17:32:31.810770Z",
     "start_time": "2023-04-17T17:32:31.809456Z"
    }
   },
   "outputs": [
    {
     "name": "stdout",
     "output_type": "stream",
     "text": [
      "Nodo n:\n",
      "Alfas:['-(p>q)']\n",
      "Betas:['(pOq)']\n",
      "Literales:['-p']\n",
      "\n",
      "¿Tiene literales complementarios? False\n",
      "¿Es una hoja? None\n",
      "Interpretación para literales: {'p': False}\n"
     ]
    }
   ],
   "source": [
    "print('Nodo n:')\n",
    "forms = ['-(p>q)', '(pOq)', '-p']\n",
    "forms = [inorder_to_tree(f) for f in forms]\n",
    "n = nodos_tableaux(forms)\n",
    "print(n)\n",
    "print('')\n",
    "print('¿Tiene literales complementarios?', n.tiene_lit_comp())\n",
    "print('¿Es una hoja?', n.es_hoja())\n",
    "print('Interpretación para literales:', n.interp())"
   ]
  },
  {
   "attachments": {},
   "cell_type": "markdown",
   "metadata": {},
   "source": [
    "El método `expandir` tomará la primera (y única en este caso) fórmula $\\alpha$ y devolvera una lista [`None`, `n1`] donde `n1` es el nodo resultado de aplicar la regla:"
   ]
  },
  {
   "cell_type": "code",
   "execution_count": 28,
   "metadata": {
    "ExecuteTime": {
     "end_time": "2023-04-17T17:32:34.000577Z",
     "start_time": "2023-04-17T17:32:33.999444Z"
    }
   },
   "outputs": [
    {
     "name": "stdout",
     "output_type": "stream",
     "text": [
      "Alfas:[]\n",
      "Betas:['(pOq)']\n",
      "Literales:['-p', 'p', '-q']\n"
     ]
    }
   ],
   "source": [
    "hijos = n.expandir()\n",
    "'''\n",
    "    hijos [1] retorna None, por lo que la fórmula está escrita así:\n",
    "        hijos 1 = [None, f.alfa]\n",
    "'''\n",
    "\n",
    "print(hijos[0])"
   ]
  },
  {
   "cell_type": "code",
   "execution_count": 30,
   "metadata": {
    "ExecuteTime": {
     "end_time": "2023-04-17T17:32:39.731436Z",
     "start_time": "2023-04-17T17:32:39.730689Z"
    }
   },
   "outputs": [
    {
     "name": "stdout",
     "output_type": "stream",
     "text": [
      "Alfas:[]\n",
      "Betas:['(pOq)']\n",
      "Literales:['-p', 'p', '-q']\n"
     ]
    }
   ],
   "source": [
    "for hijo in hijos:\n",
    "    if hijo != None:\n",
    "        print(hijo)"
   ]
  },
  {
   "attachments": {},
   "cell_type": "markdown",
   "metadata": {},
   "source": [
    "**Ejercicio 2:**\n",
    "\n",
    "Explanda el hijo de `n` y verifique si los nodos resultado tienen pares complementarios de literales."
   ]
  },
  {
   "cell_type": "code",
   "execution_count": 31,
   "metadata": {
    "ExecuteTime": {
     "end_time": "2023-04-17T17:32:42.089397Z",
     "start_time": "2023-04-17T17:32:42.089144Z"
    },
    "collapsed": false
   },
   "outputs": [
    {
     "name": "stdout",
     "output_type": "stream",
     "text": [
      "[<Logica.nodos_tableaux object at 0x11b2d03a0>, <Logica.nodos_tableaux object at 0x11b307250>]\n",
      "True\n",
      "True\n"
     ]
    }
   ],
   "source": [
    " m = hijos[0]\n",
    "L = m.expandir()\n",
    "print(L)\n",
    "\n",
    "for hijo in L:\n",
    "    print(hijo.tiene_lit_comp())"
   ]
  },
  {
   "cell_type": "code",
   "execution_count": 14,
   "metadata": {
    "ExecuteTime": {
     "end_time": "2023-04-17T14:07:59.620049Z",
     "start_time": "2023-04-17T14:07:59.601404Z"
    },
    "collapsed": false
   },
   "outputs": [
    {
     "name": "stdout",
     "output_type": "stream",
     "text": [
      "Alfas:[]\n",
      "Betas:['((-pYq)O(pY-q))']\n",
      "Literales:[]\n",
      "\n",
      "Alfas:['(-pYq)']\n",
      "Betas:[]\n",
      "Literales:[]\n",
      "Alfas:[]\n",
      "Betas:['((-pYq)O(pY-q))']\n",
      "Literales:[]\n",
      "\n",
      "Alfas:[]\n",
      "Betas:[]\n",
      "Literales:['-p', 'q']\n",
      "Alfas:[]\n",
      "Betas:['((-pYq)O(pY-q))']\n",
      "Literales:[]\n",
      "\n",
      "None\n"
     ]
    }
   ],
   "source": [
    "forms = ['((-pYq)O(pY-q))']\n",
    "forms = [inorder_to_tree((f)) for f in forms]\n",
    "n = nodos_tableaux(forms)\n",
    "\n",
    "print(n)\n",
    "L = n.expandir()\n",
    "n1 = L[0]\n",
    "print()\n",
    "print(n1)\n",
    "\n",
    "print(n)\n",
    "L = n1.expandir()\n",
    "n2 = L[0]\n",
    "print()\n",
    "print(n2)\n",
    "\n",
    "print(n)\n",
    "L = n2.expandir()\n",
    "n3 = L[0]\n",
    "print()\n",
    "print(n3)"
   ]
  },
  {
   "attachments": {},
   "cell_type": "markdown",
   "metadata": {},
   "source": [
    "**Ejercicio 3:**\n",
    "\n",
    "Expanda manualmente (o mediante un while) el siguiente nodo hasta obtener solo una lista de literales y devuelva la interpretación que los hace verdaderos. Observe que todas sus subfórmulas son de tipo $\\alpha$:"
   ]
  },
  {
   "cell_type": "code",
   "execution_count": 61,
   "metadata": {
    "ExecuteTime": {
     "end_time": "2023-04-18T11:33:05.305949Z",
     "start_time": "2023-04-18T11:33:05.294534Z"
    }
   },
   "outputs": [
    {
     "name": "stdout",
     "output_type": "stream",
     "text": [
      "Alfas:['--(-(pOq)Y-(r>s))']\n",
      "Betas:[]\n",
      "Literales:[] \n",
      "\n",
      "Alfas:['(-(pOq)Y-(r>s))']\n",
      "Betas:[]\n",
      "Literales:[] \n",
      "\n",
      "Alfas:['-(pOq)', '-(r>s)']\n",
      "Betas:[]\n",
      "Literales:[] \n",
      "\n",
      "Alfas:['-(r>s)']\n",
      "Betas:[]\n",
      "Literales:['-p', '-q'] \n",
      "\n",
      "Alfas:[]\n",
      "Betas:[]\n",
      "Literales:['-p', '-q', 'r', '-s']\n",
      "{'p': False, 'q': False, 'r': True, 's': False}\n"
     ]
    }
   ],
   "source": [
    "forms = ['--(-(pOq)Y-(r>s))']\n",
    "forms = [inorder_to_tree(f) for f in forms]\n",
    "n = nodos_tableaux(forms)\n",
    "'''\n",
    "print(n)\n",
    "L = n.expandir()\n",
    "n1 = L[0]\n",
    "print()\n",
    "print(n1)\n",
    "\n",
    "print()\n",
    "L = n1.expandir()\n",
    "n2 = L[0]\n",
    "print(n2)\n",
    "\n",
    "L = n2.expandir()\n",
    "n3 = L[0]\n",
    "print(n3)\n",
    "\n",
    "L = n3.expandir()\n",
    "n4 = L[0]\n",
    "print(n4)\n",
    "\n",
    "L = n4.expandir()\n",
    "n5 = L[0]\n",
    "print(n5)\n",
    "\n",
    "print(n4.interp())\n",
    "'''\n",
    "\n",
    "while len(n.alfas)> 0 or len(n.betas) > 0:\n",
    "    print(n, '\\n')\n",
    "    L = n.expandir()\n",
    "    n = L[0]\n",
    "\n",
    "print(n)\n",
    "print(n.interp())"
   ]
  },
  {
   "attachments": {},
   "cell_type": "markdown",
   "metadata": {},
   "source": [
    "---"
   ]
  },
  {
   "attachments": {},
   "cell_type": "markdown",
   "metadata": {},
   "source": [
    "# Expansión primero en anchura <a class=\"anchor\" id=\"anchura\"></a>\n",
    "\n",
    "([Volver al inicio](#inicio))\n",
    "\n",
    "Ya tenemos los elementos necesarios para la generación del tableaux, pero necesitamos especificar una manera de ir expandiendo el árbol. Además de la opción de expandirlo de manera aleatoria -- seleccionando aleatoriamente un nodo que no sea una hoja -- tenemos tres opciones. En esta sección examinaremos la expansión primero en anchura. El pseudocódigo del algoritmo es el siguiente:\n",
    "\n",
    "<img src=\"./img/anchura.png\" width=\"350px\"/>\n",
    "\n",
    "La implementación en Python es la siguiente:"
   ]
  },
  {
   "cell_type": "code",
   "execution_count": 33,
   "metadata": {
    "ExecuteTime": {
     "end_time": "2023-04-17T17:32:46.357513Z",
     "start_time": "2023-04-17T17:32:46.356898Z"
    }
   },
   "outputs": [],
   "source": [
    "def primero_anchura(nodo):\n",
    "    estado = nodo\n",
    "    res = estado.es_hoja()\n",
    "    if res == 'cerrada':\n",
    "        return None\n",
    "    elif res == 'abierta':\n",
    "        return estado.interp()\n",
    "    frontera = [estado]\n",
    "    while len(frontera) > 0:\n",
    "        estado = frontera.pop(0) \n",
    "        hijos = estado.expandir()\n",
    "        for a in hijos:\n",
    "            if a != None:\n",
    "                res = a.es_hoja()\n",
    "                if res == 'abierta':\n",
    "                    return a.interp()\n",
    "                elif res == None:\n",
    "                    frontera.append(a)\n",
    "    return None"
   ]
  },
  {
   "attachments": {},
   "cell_type": "markdown",
   "metadata": {},
   "source": [
    "Podemos usar esta función para expandir el nodo del ejercicio 3:"
   ]
  },
  {
   "cell_type": "code",
   "execution_count": 62,
   "metadata": {
    "ExecuteTime": {
     "end_time": "2023-04-18T11:34:15.818471Z",
     "start_time": "2023-04-18T11:34:15.802241Z"
    }
   },
   "outputs": [
    {
     "name": "stdout",
     "output_type": "stream",
     "text": [
      "Resultado: {'p': False, 'q': False, 'r': True, 's': False}\n"
     ]
    }
   ],
   "source": [
    "forms = ['--(-(pOq)Y-(r>s))']\n",
    "forms = [inorder_to_tree(f) for f in forms]\n",
    "n = nodos_tableaux(forms)\n",
    "I = primero_anchura(n)\n",
    "print(\"Resultado:\", I)"
   ]
  },
  {
   "attachments": {},
   "cell_type": "markdown",
   "metadata": {},
   "source": [
    "**Ejercicio 4:**\n",
    "\n",
    "Expanda el nodo correspondiente a la siguiente fórmula:\n",
    "\n",
    "'(((pYq)O(rOq))Y(-qO-p))'\n",
    "\n",
    "Debe obtener la siguiente interpretación:\n",
    "\n",
    "Resultado: {'q': False, 'r': True}"
   ]
  },
  {
   "cell_type": "code",
   "execution_count": 35,
   "metadata": {
    "ExecuteTime": {
     "end_time": "2023-04-17T17:32:50.054418Z",
     "start_time": "2023-04-17T17:32:50.053359Z"
    },
    "collapsed": false
   },
   "outputs": [
    {
     "name": "stdout",
     "output_type": "stream",
     "text": [
      "Resultado: {'q': False, 'r': True}\n"
     ]
    }
   ],
   "source": [
    "forms = ['(((pYq)O(rOq))Y(-qO-p))']\n",
    "forms = [inorder_to_tree(f) for f in forms]\n",
    "i = nodos_tableaux(forms)\n",
    "L = primero_anchura(i)\n",
    "print(\"Resultado:\",L)"
   ]
  },
  {
   "attachments": {},
   "cell_type": "markdown",
   "metadata": {},
   "source": [
    "---"
   ]
  },
  {
   "attachments": {},
   "cell_type": "markdown",
   "metadata": {},
   "source": [
    "# Expansión primero en profundidad <a class=\"anchor\" id=\"prof\"></a>\n",
    "\n",
    "([Volver al inicio](#inicio))\n",
    "\n",
    "Además de poder expandir primero en anchura, podemos expandir primero en profundidad. El pseudocódigo de este algoritmo es el siguiente:\n",
    "\n",
    "<img src=\"./img/profundidad.png\" width=\"350px\"/>"
   ]
  },
  {
   "attachments": {},
   "cell_type": "markdown",
   "metadata": {},
   "source": [
    "**Ejercicio 5:**\n",
    "\n",
    "Implemente la función `primero_profundidad` y expanda los nodos para las siguientes fórmulas:\n",
    "\n",
    "* '--(-(pOq)Y-(r>s))'\n",
    "* '(((pYq)O(rOq))Y(-qO-p))'\n",
    "\n",
    "Las soluciones deben ser las siguientes:\n",
    "\n",
    "* Resultado: {'p': False, 'q': False, 'r': True, 's': False}\n",
    "* Resultado: {'p': False, 'r': True}"
   ]
  },
  {
   "cell_type": "code",
   "execution_count": 36,
   "metadata": {
    "ExecuteTime": {
     "end_time": "2023-04-17T17:32:54.236819Z",
     "start_time": "2023-04-17T17:32:54.235546Z"
    },
    "collapsed": false
   },
   "outputs": [],
   "source": [
    "def primero_profundidad(nodo):\n",
    "    estado = nodo\n",
    "    res = estado.es_hoja()\n",
    "    if res == 'cerrada':\n",
    "        return None\n",
    "    elif res == 'abierta':\n",
    "        return estado.interp()\n",
    "    frontera = [estado]\n",
    "    while len(frontera) > 0:\n",
    "        estado = frontera.pop()\n",
    "        hijos = estado.expandir()\n",
    "        for a in hijos:\n",
    "            if a != None:\n",
    "                res = a.es_hoja()\n",
    "                if res == 'abierta':\n",
    "                    return a.interp()\n",
    "                elif res == None:\n",
    "                    frontera.append(a)\n",
    "    return None"
   ]
  },
  {
   "attachments": {},
   "cell_type": "markdown",
   "metadata": {},
   "source": [
    "---"
   ]
  },
  {
   "attachments": {},
   "cell_type": "markdown",
   "metadata": {},
   "source": [
    "# Recorrido con backtracking <a class=\"anchor\" id=\"backt\"></a>\n",
    "\n",
    "([Volver al inicio](#inicio))\n",
    "\n",
    "Podemos hacer también un recorrido por el árbol haciendo una expansión recursiva que implementa el backtracking, como en el siguiente pseudocódigo:\n",
    "\n",
    "<img src=\"./img/backtracking.png\" width=\"350px\"/>"
   ]
  },
  {
   "attachments": {},
   "cell_type": "markdown",
   "metadata": {},
   "source": [
    "**Ejercicio 6:**\n",
    "\n",
    "Implemente la función `backtracking` y expanda los nodos para las siguientes fórmulas:\n",
    "\n",
    "* '--(-(pOq)Y-(r>s))'\n",
    "* '(((pYq)O(rOq))Y(-qO-p))'\n",
    "\n",
    "Las soluciones deben ser las siguientes:\n",
    "\n",
    "* Resultado: {'p': False, 'q': False, 'r': True, 's': False}\n",
    "* Resultado: {'q': False, 'r': True}"
   ]
  },
  {
   "cell_type": "code",
   "execution_count": 69,
   "metadata": {
    "ExecuteTime": {
     "end_time": "2023-04-18T11:45:58.626261Z",
     "start_time": "2023-04-18T11:45:58.604437Z"
    },
    "collapsed": false
   },
   "outputs": [],
   "source": [
    "def backtracking(nodo):\n",
    "    estado = nodo\n",
    "    res = estado.es_hoja()\n",
    "    if res == 'cerrada':\n",
    "        return None\n",
    "    elif res == 'abierta':\n",
    "        return estado.interp()\n",
    "    for hijo in estado.expandir():\n",
    "        if hijo != None:\n",
    "            resul = backtracking(hijo)\n",
    "        if resul != None:\n",
    "            return resul\n",
    "    return None"
   ]
  },
  {
   "cell_type": "code",
   "execution_count": 68,
   "metadata": {
    "ExecuteTime": {
     "end_time": "2023-04-18T11:44:48.788876Z",
     "start_time": "2023-04-18T11:44:48.765958Z"
    },
    "collapsed": false
   },
   "outputs": [
    {
     "name": "stdout",
     "output_type": "stream",
     "text": [
      "Resultado: {'p': False, 'q': False, 'r': True, 's': False}\n"
     ]
    }
   ],
   "source": [
    "forms = ['--(-(pOq)Y-(r>s))']\n",
    "forms = [inorder_to_tree(f) for f in forms]\n",
    "i = nodos_tableaux(forms)\n",
    "L = backtracking(i)\n",
    "print(\"Resultado:\",L)"
   ]
  },
  {
   "cell_type": "code",
   "execution_count": 67,
   "metadata": {
    "ExecuteTime": {
     "end_time": "2023-04-18T11:44:22.610479Z",
     "start_time": "2023-04-18T11:44:22.559432Z"
    },
    "collapsed": false
   },
   "outputs": [
    {
     "name": "stdout",
     "output_type": "stream",
     "text": [
      "Resultado: {'q': False, 'r': True}\n"
     ]
    }
   ],
   "source": [
    "forms = ['(((pYq)O(rOq))Y(-qO-p))']\n",
    "forms = [inorder_to_tree(f) for f in forms]\n",
    "i = nodos_tableaux(forms)\n",
    "L = backtracking(i)\n",
    "\n",
    "print(\"Resultado:\",L)"
   ]
  },
  {
   "attachments": {},
   "cell_type": "markdown",
   "metadata": {},
   "source": [
    "---"
   ]
  },
  {
   "attachments": {},
   "cell_type": "markdown",
   "metadata": {},
   "source": [
    "# Sección opcional: Eficiencia de los algoritmos <a class=\"anchor\" id=\"efi\"></a>\n",
    "\n",
    "\n",
    "([Volver al inicio](#inicio))\n",
    "\n",
    "Vamos a verificar empíricamente cuál función es más rápida para expandir el árbol del tableaux de una fórmula dada. Para ello, crearemos fórmulas más y más grandes para probar en ellas nuestros tres algoritmos.\n",
    "\n",
    "Definimos nuestras funciones para medir tiempos en una lista de entradas: "
   ]
  },
  {
   "cell_type": "code",
   "execution_count": 40,
   "metadata": {
    "ExecuteTime": {
     "end_time": "2023-04-17T17:33:03.198083Z",
     "start_time": "2023-04-17T17:33:03.197816Z"
    }
   },
   "outputs": [],
   "source": [
    "from time import time\n",
    "import seaborn as sns\n",
    "import pandas as pd\n",
    "import matplotlib.pyplot as plt\n",
    "\n",
    "def obtiene_tiempos(fun, args, num_it=100):\n",
    "    tiempos_fun = []\n",
    "    for i in range(num_it):\n",
    "        arranca = time()\n",
    "        x = fun(*args)\n",
    "        para = time()\n",
    "        tiempos_fun.append(para - arranca)\n",
    "    return tiempos_fun\n",
    "\n",
    "def compara_entradas_funs(funs, nombres_funs, lista_args, N=100):\n",
    "    entradas = []\n",
    "    funcion = []\n",
    "    tiempos = []\n",
    "    lista_dfs = []\n",
    "    for i, args in enumerate(lista_args):\n",
    "        for j, fun in enumerate(funs):\n",
    "            t = obtiene_tiempos(fun, [args], N)\n",
    "            tiempos += t\n",
    "            n = len(t)\n",
    "            entradas += [i+1]*n\n",
    "            funcion += [nombres_funs[j]]*n\n",
    "        df = pd.DataFrame({'Long_entrada':entradas, \n",
    "                           'Funcion':funcion,\n",
    "                           'Tiempo_prom':tiempos})\n",
    "        lista_dfs.append(df)\n",
    "    df = pd.concat(lista_dfs)\n",
    "    sns.lineplot(x='Long_entrada',y='Tiempo_prom',hue='Funcion',data=df)\n",
    "    plt.show()"
   ]
  },
  {
   "attachments": {},
   "cell_type": "markdown",
   "metadata": {},
   "source": [
    "Creamos nuestra lista de fórmulas:"
   ]
  },
  {
   "cell_type": "code",
   "execution_count": 41,
   "metadata": {
    "ExecuteTime": {
     "end_time": "2023-04-17T17:33:04.580253Z",
     "start_time": "2023-04-17T17:33:04.580065Z"
    }
   },
   "outputs": [],
   "source": [
    "from random import uniform, choice\n",
    "\n",
    "cantidad = 20\n",
    "letras = [chr(i) for i in range(256, 256+cantidad)]\n",
    "lista = [letras[0]]\n",
    "formula = letras[0]\n",
    "for p in letras[1:]:\n",
    "    neg1 = '-' if uniform(0,1) > .5 else ''\n",
    "    neg2 = '-' if uniform(0,1) > .5 else ''\n",
    "    conectivo = choice(['Y','O','>'])\n",
    "    formula = neg2 + \"(\" + formula + conectivo + neg1 + p + \")\"\n",
    "    lista.append(formula)\n",
    "\n",
    "#lista"
   ]
  },
  {
   "attachments": {},
   "cell_type": "markdown",
   "metadata": {},
   "source": [
    "Y, finalmente, medimos los tiempos de ejecución para cada fórmula:"
   ]
  },
  {
   "cell_type": "code",
   "execution_count": 42,
   "metadata": {
    "ExecuteTime": {
     "end_time": "2023-04-17T17:33:23.850201Z",
     "start_time": "2023-04-17T17:33:23.849585Z"
    },
    "scrolled": false
   },
   "outputs": [
    {
     "data": {
      "image/png": "[encoded data removed]",
      "text/plain": [
       "<Figure size 640x480 with 1 Axes>"
      ]
     },
     "metadata": {},
     "output_type": "display_data"
    }
   ],
   "source": [
    "nombres = ['primero anchura', 'primero profundidad', 'backtracking']\n",
    "anchura = lambda formula: primero_anchura(nodos_tableaux([inorder_to_tree(formula)]))\n",
    "profundidad = lambda formula: primero_profundidad(nodos_tableaux([inorder_to_tree(formula)]))\n",
    "backtrack = lambda formula: backtracking(nodos_tableaux([inorder_to_tree(formula)]))\n",
    "funs = [anchura, profundidad, backtrack]\n",
    "compara_entradas_funs(funs, nombres, lista)"
   ]
  },
  {
   "attachments": {},
   "cell_type": "markdown",
   "metadata": {},
   "source": [
    "En esta gráfica es muy fácil apreciar que, a medida que aumentamos el número de letras proposicionales distintas en la fórmula de entrada, los tres algoritmos se tardan más en determinar si ella es satisfacible. De los tres algoritmos, el peor es el de backtracking y el mejor es el de primero en profundidad. No obstante, vemos que el número de letras proposicionales no es el único factor que influye en el tiempo de ejecución. También influye la estructura de la fórmula. Más adelante estudiaremos el comportamiento de los algoritmos de acuerdo a distintos tipos de fórmulas."
   ]
  },
  {
   "attachments": {},
   "cell_type": "markdown",
   "metadata": {},
   "source": [
    "---"
   ]
  }
 ],
 "metadata": {
  "kernelspec": {
   "display_name": "Python 3",
   "language": "python",
   "name": "python3"
  },
  "language_info": {
   "codemirror_mode": {
    "name": "ipython",
    "version": 3
   },
   "file_extension": ".py",
   "mimetype": "text/x-python",
   "name": "python",
   "nbconvert_exporter": "python",
   "pygments_lexer": "ipython3",
   "version": "3.8.5"
  }
 },
 "nbformat": 4,
 "nbformat_minor": 4
}
