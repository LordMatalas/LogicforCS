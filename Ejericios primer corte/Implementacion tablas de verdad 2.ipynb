{
 "cells": [
  {
   "cell_type": "markdown",
   "metadata": {},
   "source": [
    "<table>\n",
    "    <tr>\n",
    "        <td><img src=\"./img/Macc.png\" width=\"auto\"/></td>\n",
    "        <td>\n",
    "            <table><tr>\n",
    "            <h1 style=\"color:blue;text-align:center\">Lógica para Ciencias de la Computación</h1></td>\n",
    "            </tr></table>   \n",
    "        <td>&nbsp;</td>\n",
    "        <td>\n",
    "            <table><tr>\n",
    "            <tp><p style=\"font-size:150%;text-align:center\">Taller</p></tp>\n",
    "            <tp><p style=\"font-size:150%;text-align:center\">Implementación de tablas de verdad</p></tp>\n",
    "            </tr></table>\n",
    "        </td>\n",
    "    </tr>\n",
    "</table>\n",
    "\n",
    "---"
   ]
  },
  {
   "cell_type": "markdown",
   "metadata": {},
   "source": [
    "# Objetivos <a class=\"anchor\" id=\"inicio\"></a>\n",
    "\n",
    "El primer objetivo de este taller es familiarizarnos con el álgebra booleana incorporada en Python. Luego, mediante nuestras fórmulas y funciones recursivas, explicaremos cómo ocurre la evaluación de operaciones booleanas. Más aún, mostraremos cómo construir fórmulas arbitrariamente grandes y complejas mediante una función que toma una cadena y crea un objeto de clase `Formula`. Este truco resultará muy útil cuando usemos la lógica para representar problemas."
   ]
  },
  {
   "cell_type": "markdown",
   "metadata": {},
   "source": [
    "# Secciones\n",
    "\n",
    "1. [Algebra booleana en python.](#alg)\n",
    "2. [Funciones de interpretación como diccionarios.](#funs)\n",
    "3. [El método de evaluación de fórmulas.](#eval)\n",
    "4. [De cadenas a fórmulas.](#inorder)\n",
    "5. [Ejercicios.](#ejers)\n",
    "6. [Comparación empírica de tiempos (opcional).](#comp)"
   ]
  },
  {
   "cell_type": "markdown",
   "metadata": {},
   "source": [
    "# Álgebra booleana en python <a class=\"anchor\" id=\"alg\"></a>\n",
    "\n",
    "([Volver al inicio](#inicio))\n",
    "\n",
    "Python implementa las dos constantes `True` y `False`, mediante las cuales es posible definir variables booleanas: "
   ]
  },
  {
   "cell_type": "code",
   "execution_count": 43,
   "metadata": {},
   "outputs": [],
   "source": [
    "p = True\n",
    "q = False"
   ]
  },
  {
   "cell_type": "markdown",
   "metadata": {},
   "source": [
    "Estas constantes y variables pueden manipularse mediante la operación unaria `not` y las operaciones binarias `and` y `or`:"
   ]
  },
  {
   "cell_type": "code",
   "execution_count": 44,
   "metadata": {},
   "outputs": [
    {
     "name": "stdout",
     "output_type": "stream",
     "text": [
      "False\n",
      "False\n",
      "True\n"
     ]
    }
   ],
   "source": [
    "print(not p)\n",
    "print(p and q)\n",
    "print(p or q)"
   ]
  },
  {
   "cell_type": "markdown",
   "metadata": {},
   "source": [
    "Podemos verificar el funcionamiento de estas operaciones haciendo la evaluación sobre todos los valores posibles de sus argumentos (esto es lo que se conoce como la **tabla de verdad** de los conectivos lógicos):"
   ]
  },
  {
   "cell_type": "code",
   "execution_count": 45,
   "metadata": {},
   "outputs": [
    {
     "data": {
      "text/plain": [
       "[(True, True), (True, False), (False, True), (False, False)]"
      ]
     },
     "execution_count": 45,
     "metadata": {},
     "output_type": "execute_result"
    }
   ],
   "source": [
    "from itertools import product\n",
    "\n",
    "interpretaciones = list(product([True,False], [True,False] ))\n",
    "interpretaciones"
   ]
  },
  {
   "cell_type": "code",
   "execution_count": 46,
   "metadata": {},
   "outputs": [
    {
     "name": "stdout",
     "output_type": "stream",
     "text": [
      "-------------\n",
      "p     not p\n",
      "-------------\n",
      "True  False\n",
      "False True\n",
      "\n",
      "--------------------\n",
      "p     q     p and q\n",
      "--------------------\n",
      "True  True  True\n",
      "True  False False\n",
      "False True  False\n",
      "False False False\n",
      "\n",
      "--------------------\n",
      "p     q     p or q\n",
      "--------------------\n",
      "True  True  True\n",
      "True  False True\n",
      "False True  True\n",
      "False False False\n"
     ]
    }
   ],
   "source": [
    "print('-'*13)\n",
    "print('p     not p')\n",
    "print('-'*13)\n",
    "for p in [True, False]:\n",
    "    espacio1 = '  ' if p else ' '\n",
    "    print(f'{p}{espacio1}{not p}')\n",
    "\n",
    "print('')\n",
    "print('-'*20)\n",
    "print('p     q     p and q')\n",
    "print('-'*20)\n",
    "for I in interpretaciones:\n",
    "    p = I[0]\n",
    "    q = I[1]\n",
    "    espacio1 = '  ' if p else ' '\n",
    "    espacio2 = '  ' if q else ' '\n",
    "    print(f'{p}{espacio1}{q}{espacio2}{p and q}')\n",
    "    \n",
    "print('')\n",
    "print('-'*20)\n",
    "print('p     q     p or q')\n",
    "print('-'*20)\n",
    "for I in interpretaciones:\n",
    "    p = I[0]\n",
    "    q = I[1]\n",
    "    espacio1 = '  ' if p else ' '\n",
    "    espacio2 = '  ' if q else ' '\n",
    "    print(f'{p}{espacio1}{q}{espacio2}{p or q}')"
   ]
  },
  {
   "cell_type": "markdown",
   "metadata": {},
   "source": [
    "**Ejercicio 1:**\n",
    "\n",
    "Encuentre todas las posibles interpretaciones para tres variables booleanas `p`, `q`, `r`."
   ]
  },
  {
   "cell_type": "markdown",
   "metadata": {},
   "source": [
    "---"
   ]
  },
  {
   "cell_type": "markdown",
   "metadata": {},
   "source": [
    "Observe que una variable como `p and q or r` es ambigua. Es decir, ¿su evaluación es de la forma `(p and q) or r` o de la forma `p and (q or r)`?"
   ]
  },
  {
   "cell_type": "code",
   "execution_count": 47,
   "metadata": {},
   "outputs": [],
   "source": [
    "p = True\n",
    "q = False\n",
    "r = True\n",
    "interpretaciones = list(product([True,False], [True,False], [True, False] ))\n"
   ]
  },
  {
   "cell_type": "code",
   "execution_count": 48,
   "metadata": {},
   "outputs": [
    {
     "data": {
      "text/plain": [
       "True"
      ]
     },
     "execution_count": 48,
     "metadata": {},
     "output_type": "execute_result"
    }
   ],
   "source": [
    "p and q or r"
   ]
  },
  {
   "cell_type": "markdown",
   "metadata": {},
   "source": [
    "Python no tiene problema en operar sin paréntesis. Básicamente, porque está dando prioridad a alguna de las dos operaciones. O bien `and` siempre va primero, o bien `or` siempre va primero. Tratemos de encontrar empíricamente cuál operación tiene prioridad:"
   ]
  },
  {
   "cell_type": "code",
   "execution_count": 49,
   "metadata": {},
   "outputs": [
    {
     "name": "stdout",
     "output_type": "stream",
     "text": [
      "Dando prioridad a and\n",
      "------------------------------------\n",
      "p     q       r      (p and q) or r\n",
      "------------------------------------\n",
      "True  True    True    True\n",
      "True  True    False   True\n",
      "True  False   True    True\n",
      "True  False   False   False\n",
      "False True    True    True\n",
      "False True    False   False\n",
      "False False   True    True\n",
      "False False   False   False\n",
      "\n",
      "Dando prioridad a or\n",
      "------------------------------------\n",
      "p     q       r       p and (q or r)\n",
      "------------------------------------\n",
      "True  True    True    True\n",
      "True  True    False   True\n",
      "True  False   True    True\n",
      "True  False   False   False\n",
      "False True    True    False\n",
      "False True    False   False\n",
      "False False   True    False\n",
      "False False   False   False\n",
      "\n",
      "Prioridad de Python\n",
      "------------------------------------\n",
      "p     q       r       p and q or r\n",
      "------------------------------------\n",
      "True  True    True    True\n",
      "True  True    False   True\n",
      "True  False   True    True\n",
      "True  False   False   False\n",
      "False True    True    True\n",
      "False True    False   False\n",
      "False False   True    True\n",
      "False False   False   False\n"
     ]
    }
   ],
   "source": [
    "print('Dando prioridad a and')\n",
    "print('-'*36)\n",
    "print('p     q       r      (p and q) or r')\n",
    "print('-'*36)\n",
    "for I in interpretaciones:\n",
    "    p = I[0]\n",
    "    q = I[1]\n",
    "    r = I[2]\n",
    "    espacio1 = '  ' if p else ' '\n",
    "    espacio2 = '    ' if q else '   '\n",
    "    espacio3 = '    ' if r else '   '\n",
    "    print(f'{p}{espacio1}{q}{espacio2}{r}{espacio3}{(p and q) or r}')\n",
    "\n",
    "print('')\n",
    "print('Dando prioridad a or')\n",
    "print('-'*36)\n",
    "print('p     q       r       p and (q or r)')\n",
    "print('-'*36)\n",
    "for I in interpretaciones:\n",
    "    p = I[0]\n",
    "    q = I[1]\n",
    "    r = I[2]\n",
    "    espacio1 = '  ' if p else ' '\n",
    "    espacio2 = '    ' if q else '   '\n",
    "    espacio3 = '    ' if r else '   '\n",
    "    print(f'{p}{espacio1}{q}{espacio2}{r}{espacio3}{p and (q or r)}')\n",
    "\n",
    "print('')\n",
    "print('Prioridad de Python')\n",
    "print('-'*36)\n",
    "print('p     q       r       p and q or r')\n",
    "print('-'*36)\n",
    "for I in interpretaciones:\n",
    "    p = I[0]\n",
    "    q = I[1]\n",
    "    r = I[2]\n",
    "    espacio1 = '  ' if p else ' '\n",
    "    espacio2 = '    ' if q else '   '\n",
    "    espacio3 = '    ' if r else '   '\n",
    "    print(f'{p}{espacio1}{q}{espacio2}{r}{espacio3}{p and q or r}')\n"
   ]
  },
  {
   "cell_type": "markdown",
   "metadata": {},
   "source": [
    "Vemos que la primera y tercera tablas son iguales, lo que quiere decir que la evaluación de `(p and q) or r` y `p and q or r` dan como resultado el mismo valor de verdad para cualquier combinación de valores de las letras `p` y `q`. Esto implica, naturalmente, que la inclusión de los paréntesis en la primera variable no influye en la evaluación de su valor de verdad. Podemos concluir que Python da prioridad a `and` sobre `or`, es decir, primero evalúa los `and` y, una vez todos han sido resueltos, evalúa los `or`.\n",
    "\n",
    "En general se tiene que:\n",
    "\n",
    "**Las prioridades de python son** `not` **sobre** `and` **sobre** `or`.\n",
    "\n",
    "---"
   ]
  },
  {
   "cell_type": "markdown",
   "metadata": {},
   "source": [
    "Como pudimos ver, Python ya tiene incorporada el álgebra booleana. Las variables de esta álgebra son lo que nosotros hemos definido como fórmulas de la lógica proposicional, y las operaciones booleanas son lo que nosotros llamamos conectivos lógicos (o constantes lógicas).\n",
    "\n",
    "En este curso no usaremos mucho esta álgebra booleana de Python, sino que iremos mucho más allá, por varias razones. La primera es que queremos abrir la caja negra de la evaluación de operaciones booleanas. ¿Cómo se obtiene el valor de una variable booleana compleja, p.ej., `not (p and q) or r`? \n",
    "\n",
    "En segundo lugar, queremos crear de manera algorítmica fórmulas de gran tamaño y gran complejidad, las cuales usaremos en nuestros ejercicios de representación de problemas. Python no presenta una manera fácil de creación algorítmica de variables. Nosotros veremos una manera muy sencilla de crear fórmulas a partir de cadenas.\n",
    "\n",
    "Finalmente, en tercer lugar, durante el curso vamos a implementar varios métodos para buscar modelos de una fórmula arbitrariamente grande y compleja. "
   ]
  },
  {
   "cell_type": "markdown",
   "metadata": {},
   "source": [
    "---"
   ]
  },
  {
   "cell_type": "markdown",
   "metadata": {},
   "source": [
    "# Funciones de interpretación como diccionarios <a class=\"anchor\" id=\"funs\"></a>\n",
    "\n",
    "([Volver al inicio](#inicio))\n",
    "\n",
    "Vamos a ver ahora cómo implementar las funciones de interpretación y la manera de evaluar el valor de verdad de una fórmula. Comenzamos usando diccionarios para implementar las funciones de interpretación, es decir, aquellas que dan valores de verdad a las letras proposicionales:"
   ]
  },
  {
   "cell_type": "code",
   "execution_count": 50,
   "metadata": {},
   "outputs": [
    {
     "name": "stdout",
     "output_type": "stream",
     "text": [
      "True\n",
      "False\n"
     ]
    }
   ],
   "source": [
    "I = {'p':True, 'q':False}\n",
    "print(I['p'])\n",
    "print(I['q'])"
   ]
  },
  {
   "cell_type": "markdown",
   "metadata": {},
   "source": [
    "Si queremos incluir el valor de una nueva letra proposicional, podemos simplemente aumentar el diccionario:"
   ]
  },
  {
   "cell_type": "code",
   "execution_count": 51,
   "metadata": {},
   "outputs": [
    {
     "data": {
      "text/plain": [
       "True"
      ]
     },
     "execution_count": 51,
     "metadata": {},
     "output_type": "execute_result"
    }
   ],
   "source": [
    "I['r'] = True\n",
    "I['r']"
   ]
  },
  {
   "cell_type": "markdown",
   "metadata": {},
   "source": [
    "---"
   ]
  },
  {
   "cell_type": "markdown",
   "metadata": {},
   "source": [
    "# El método de evaluación de fórmulas <a class=\"anchor\" id=\"eval\"></a>\n",
    "\n",
    "([Volver al inicio](#inicio))\n",
    "\n",
    "Ya hemos visto cómo implementar las funciones de interpretación. Ahora vamos a ver cómo usarlas para darle un valor de verdad a una fórmula.\n",
    "\n",
    "Comenzamos por incluir la clase `Formula` y sus subclases:"
   ]
  },
  {
   "cell_type": "code",
   "execution_count": 52,
   "metadata": {},
   "outputs": [],
   "source": [
    "class Formula :\n",
    "    \n",
    "    def __init__(self) :\n",
    "        pass\n",
    "\n",
    "    def __str__(self) :\n",
    "        if type(self) == Letra:\n",
    "            return self.letra\n",
    "        elif type(self) == Negacion:\n",
    "            return '-' + str(self.subf)\n",
    "        elif type(self) == Binario:\n",
    "            return \"(\" + str(self.left) + self.conectivo + str(self.right) + \")\"\n",
    "    \n",
    "    def letras(self):\n",
    "        if type(self) == Letra:\n",
    "            return set(self.letra)\n",
    "        elif type(self) == Negacion:\n",
    "            return self.subf.letras()\n",
    "        elif type(self) == Binario:\n",
    "            return self.left.letras().union(self.right.letras())\n",
    "\n",
    "class Letra(Formula) :\n",
    "    def __init__ (self, letra:str) :\n",
    "        self.letra = letra\n",
    "           \n",
    "class Negacion(Formula) :    \n",
    "    def __init__(self, subf:Formula) : \n",
    "        self.subf = subf\n",
    "        \n",
    "class Binario(Formula) :\n",
    "    def __init__(self, conectivo:str, left:Formula, right:Formula) :\n",
    "        assert(conectivo in ['Y','O','>','='])\n",
    "        self.conectivo = conectivo\n",
    "        self.left = left\n",
    "        self.right = right\n",
    "\n"
   ]
  },
  {
   "cell_type": "markdown",
   "metadata": {},
   "source": [
    "Ahora bien, evaluar el valor de verdad de una fórmula dado un valor de verdad para cada una de sus letras proposicionales, se realiza mediante una función recursiva. En las diapositivas de clase hay un ejemplo explicado en detalle. Esta función la incluimos como un método de la clase `Formula`:"
   ]
  },
  {
   "cell_type": "code",
   "execution_count": 53,
   "metadata": {},
   "outputs": [],
   "source": [
    "def valor(self, I) :\n",
    "    if type(self) == Letra:\n",
    "        return I[self.letra]\n",
    "    elif type(self) == Negacion:\n",
    "        return not self.subf.valor(I)\n",
    "    elif type(self) == Binario:\n",
    "        if self.conectivo == 'Y':\n",
    "            return self.left.valor(I) and self.right.valor(I)\n",
    "        if self.conectivo == 'O':\n",
    "            return self.left.valor(I) or self.right.valor(I)\n",
    "        if self.conectivo == '>':\n",
    "            return not self.left.valor(I) or self.right.valor(I)\n",
    "        if self.conectivo == '=':\n",
    "            return (self.left.valor(I) and self.right.valor(I)) or (not self.left.valor(I) and not self.right.valor(I)) \n",
    "\n",
    "setattr(Formula, \"valor\", valor)"
   ]
  },
  {
   "cell_type": "markdown",
   "metadata": {},
   "source": [
    "Veámos cómo funciona en un par de casos:"
   ]
  },
  {
   "cell_type": "code",
   "execution_count": 54,
   "metadata": {},
   "outputs": [
    {
     "name": "stdout",
     "output_type": "stream",
     "text": [
      "p tiene el valor True\n",
      "q tiene el valor False\n",
      "-p tiene el valor False\n",
      "(p>q) tiene el valor False\n",
      "-(p>q) tiene el valor True\n",
      "(-q=-(p>q)) tiene el valor True\n"
     ]
    }
   ],
   "source": [
    "# Creamos las fórmulas\n",
    "p = Letra('p')\n",
    "q = Letra('q')\n",
    "A1 = Negacion(p)\n",
    "A2 = Binario('>', p, q)\n",
    "A3 = Negacion(A2)\n",
    "A4 = Binario('=', Negacion(q), A3)\n",
    "\n",
    "# Visualizamos la notación inorder de las fórmulas\n",
    "# con su respectivo valor de verdad dada la interpretación I\n",
    "I = {'p':True, 'q':False}\n",
    "print(f'{p} tiene el valor {p.valor(I)}')\n",
    "print(f'{q} tiene el valor {q.valor(I)}')\n",
    "print(f'{A1} tiene el valor {A1.valor(I)}')\n",
    "print(f'{A2} tiene el valor {A2.valor(I)}')\n",
    "print(f'{A3} tiene el valor {A3.valor(I)}')\n",
    "print(f'{A4} tiene el valor {A4.valor(I)}')"
   ]
  },
  {
   "cell_type": "markdown",
   "metadata": {},
   "source": [
    "---"
   ]
  },
  {
   "cell_type": "markdown",
   "metadata": {},
   "source": [
    "# De cadenas a fórmulas <a class=\"anchor\" id=\"inorder\"></a>\n",
    "\n",
    "([Volver al inicio](#inicio))\n",
    "\n",
    "Todo esto está muy bien, pero ¿por qué tanto alboroto si Python ya tiene incorporada el álgebra booleana? (también está esta excelente [librería](https://docs.sympy.org/latest/modules/logic.html)).\n",
    "\n",
    "Lo primero que hemos logrado hasta ahora es, por así decirlo, abrir la caja negra de cómo hace Python para evaluar una variable booleana. Ahora vamos a ver cómo construir fórmulas a partir de cadenas. Esto no es tan fácil de realizar en Python, pero es muy importante para nosotros, toda vez que vamos a necesitar construir fórmulas grandes y complejas para la representación de problemas. \n",
    "\n",
    "La solución a este desafío de construir grandes y complejas fórmulas tiene como primer paso la construcción de una fórmula como una cadena (es decir, de tipo `string`). Más adelante dedicaremos nuestras energías a la construcción de estas fórmulas como cadenas. Lo importante ahora es ver que podemos tomar una fórmula como cadena y construir una fórmula como objeto.\n",
    "\n",
    "La siguiente función toma una cadena y devuelve un objeto de clase `Formula`. La explicación con ejemplos se encuentra en las diapositivas de clase:"
   ]
  },
  {
   "cell_type": "code",
   "execution_count": 55,
   "metadata": {},
   "outputs": [],
   "source": [
    "def inorder_to_tree(cadena:str):\n",
    "    conectivos = ['Y', 'O', '>', '=']\n",
    "    if len(cadena) == 1:\n",
    "        return Letra(cadena)\n",
    "    elif cadena[0] == '-':\n",
    "        return Negacion(inorder_to_tree(cadena[1:]))\n",
    "    elif cadena[0] == \"(\":\n",
    "        counter = 0 #Contador de parentesis\n",
    "        for i in range(1, len(cadena)):\n",
    "            if cadena[i] == \"(\":\n",
    "                counter += 1\n",
    "            elif cadena[i] == \")\":\n",
    "                counter -=1\n",
    "            elif cadena[i] in conectivos and counter == 0:\n",
    "                return Binario(cadena[i], inorder_to_tree(cadena[1:i]),inorder_to_tree(cadena[i + 1:-1]))\n",
    "    else:\n",
    "        raise Exception('¡Cadena inválida!')"
   ]
  },
  {
   "cell_type": "code",
   "execution_count": 56,
   "metadata": {},
   "outputs": [
    {
     "name": "stdout",
     "output_type": "stream",
     "text": [
      "(-p>((pY-q)>(pYq)))\n",
      "(-pOq)\n",
      "(pY-q)\n"
     ]
    }
   ],
   "source": [
    "prueba1 = \"(-p>((pY-q)>(pYq)))\"\n",
    "prueba2 = \"(-pOq)\"\n",
    "prueba3 = \"(pY-q)\"\n",
    "\n",
    "Tree = inorder_to_tree(prueba1)\n",
    "Tree2 = inorder_to_tree(prueba2)\n",
    "Tree3 = inorder_to_tree(prueba3)\n",
    "\n",
    "print(Tree)\n",
    "print(Tree2)\n",
    "print(Tree3)"
   ]
  },
  {
   "cell_type": "markdown",
   "metadata": {},
   "source": [
    "---"
   ]
  },
  {
   "cell_type": "markdown",
   "metadata": {},
   "source": [
    "# Ejercicios <a class=\"anchor\" id=\"ejers\"></a>\n",
    "\n",
    "([Volver al inicio](#inicio))"
   ]
  },
  {
   "cell_type": "markdown",
   "metadata": {},
   "source": [
    "**Ejercicio 2:** \n",
    "\n",
    "Adapte el procedimiento usado anteriormente para encontrar que `and` tiene prioridad sobre `or`, pero esta vez para verificar que `not` tiene mayor prioridad que `and`. "
   ]
  },
  {
   "cell_type": "code",
   "execution_count": 57,
   "metadata": {},
   "outputs": [
    {
     "name": "stdout",
     "output_type": "stream",
     "text": [
      "Dando prioridad a and\n",
      "------------------------------------\n",
      "p     q       r      (p and q) or r\n",
      "------------------------------------\n",
      "True  True    True    True\n",
      "True  True    False   True\n",
      "True  False   True    True\n",
      "True  False   False   False\n",
      "False True    True    True\n",
      "False True    False   False\n",
      "False False   True    True\n",
      "False False   False   False\n",
      "\n",
      "Dando prioridad a not\n",
      "------------------------------------\n",
      "p     q       r       not (p and (q or r))\n",
      "------------------------------------\n",
      "True  True    True    False\n",
      "True  True    False   False\n",
      "True  False   True    False\n",
      "True  False   False   True\n",
      "False True    True    False\n",
      "False True    False   True\n",
      "False False   True    False\n",
      "False False   False   True\n",
      "\n",
      "Prioridad de Python\n",
      "------------------------------------\n",
      "p     q       r       p and q or r\n",
      "------------------------------------\n",
      "True  True    True    True\n",
      "True  True    False   False\n",
      "True  False   True    True\n",
      "True  False   False   False\n",
      "False True    True    True\n",
      "False True    False   True\n",
      "False False   True    True\n",
      "False False   False   False\n"
     ]
    }
   ],
   "source": [
    "print('Dando prioridad a and')\n",
    "print('-'*36)\n",
    "print('p     q       r      (p and q) or r')\n",
    "print('-'*36)\n",
    "for I in interpretaciones:\n",
    "    p = I[0]\n",
    "    q = I[1]\n",
    "    r = I[2]\n",
    "    espacio1 = '  ' if p else ' '\n",
    "    espacio2 = '    ' if q else '   '\n",
    "    espacio3 = '    ' if r else '   '\n",
    "    print(f'{p}{espacio1}{q}{espacio2}{r}{espacio3}{(p and q) or r}')\n",
    "\n",
    "print('')\n",
    "print('Dando prioridad a not')\n",
    "print('-'*36)\n",
    "print('p     q       r       not (p and (q or r))')\n",
    "print('-'*36)\n",
    "for I in interpretaciones:\n",
    "    p = I[0]\n",
    "    q = I[1]\n",
    "    r = I[2]\n",
    "    espacio1 = '  ' if p else ' '\n",
    "    espacio2 = '    ' if q else '   '\n",
    "    espacio3 = '    ' if r else '   '\n",
    "    print(f'{p}{espacio1}{q}{espacio2}{r}{espacio3}{not (p and q or r)}')\n",
    "\n",
    "print('')\n",
    "print('Prioridad de Python')\n",
    "print('-'*36)\n",
    "print('p     q       r       p and q or r')\n",
    "print('-'*36)\n",
    "for I in interpretaciones:\n",
    "    p = I[0]\n",
    "    q = I[1]\n",
    "    r = I[2]\n",
    "    espacio1 = '  ' if p else ' '\n",
    "    espacio2 = '    ' if q else '   '\n",
    "    espacio3 = '    ' if r else '   '\n",
    "    print(f'{p}{espacio1}{q}{espacio2}{r}{espacio3}{not p and q or r}')\n"
   ]
  },
  {
   "cell_type": "markdown",
   "metadata": {},
   "source": [
    "---"
   ]
  },
  {
   "cell_type": "markdown",
   "metadata": {},
   "source": [
    "**Ejercicio 3:**\n",
    "\n",
    "Verifique la implementación del método $\\texttt{valor}()$ con las siguientes fórmulas usando el siguiente diccionario `I`:\n",
    "\n",
    "`I = {'p':False, 'q':True, 'r':True, 's':False}`\n",
    "\n",
    "* $p\\wedge\\neg q$ $=>$ False\n",
    "* $(\\neg r\\vee\\neg p)\\to q$ $=>$ True\n",
    "* $(s\\vee\\neg r)\\to(p\\wedge\\neg q)$ $=>$ True\n",
    "* $(r\\wedge\\neg s)\\to (\\neg s\\vee (\\neg r\\vee\\neg p))$ $=>$ True\n",
    "* $((r\\wedge\\neg s)\\to (\\neg s\\vee (\\neg r\\vee\\neg p)))\\to (\\neg s\\vee (\\neg r\\vee\\neg p))$ $=>$ True\n",
    "\n",
    "**Nota:** El valor a la derecha del símbolo '$=>$' hace referencia al resultado correcto.\n"
   ]
  },
  {
   "cell_type": "code",
   "execution_count": 73,
   "metadata": {},
   "outputs": [
    {
     "name": "stdout",
     "output_type": "stream",
     "text": [
      "False\n",
      "True\n",
      "True\n",
      "True\n",
      "True\n"
     ]
    }
   ],
   "source": [
    "R = {'p': False, 'q': True, 'r': True, 's': False}\n",
    "caso1 = \"(pY-q)\"\n",
    "caso2 = \"((-rO-p)>q)\"\n",
    "caso3 = \"((sO-r)>(pY-q))\"\n",
    "caso4 = \"((rY-s)>(-sO(-r-p)))\"\n",
    "caso5 = \"(((rY-s)>(-sO(-rO-p)))>(-sY(-rO-p)))\" \n",
    "\n",
    "tree_caso1 = inorder_to_tree(caso1).valor(R)\n",
    "tree_caso2 = inorder_to_tree(caso2).valor(R)\n",
    "tree_caso3 = inorder_to_tree(caso3).valor(R)\n",
    "tree_caso4 = inorder_to_tree(caso4).valor(R)\n",
    "tree_caso5 = inorder_to_tree(caso5).valor(R)\n",
    "\n",
    "print(tree_caso1)\n",
    "print(tree_caso2)\n",
    "print(tree_caso3)\n",
    "print(tree_caso4)\n",
    "print(tree_caso5)"
   ]
  },
  {
   "cell_type": "markdown",
   "metadata": {},
   "source": [
    "---"
   ]
  },
  {
   "cell_type": "markdown",
   "metadata": {},
   "source": [
    "**Ejercicio 4:**\n",
    "\n",
    "Use la función `product` de la librería `itertool` para implementar en Python una función que determine cuáles interpretaciones hacen que una fórmula sea verdadera. Verifique su implementación con las siguientes fórmulas:\n",
    "\n",
    "* $\\neg p\\wedge q\\quad=>\\quad$  únicamente `I = {'p':False, 'q':True}`\n",
    "* $p\\to(\\neg p\\to q)\\quad=>\\quad$ Todas las interpretaciones\n",
    "* $\\bigl(\\neg p\\wedge (\\neg p\\to \\neg q)\\bigr)\\wedge q\\quad=>\\quad$ Ninguna interpretación\n",
    "\n"
   ]
  },
  {
   "cell_type": "code",
   "execution_count": 74,
   "metadata": {},
   "outputs": [
    {
     "name": "stdout",
     "output_type": "stream",
     "text": [
      "True\n"
     ]
    }
   ],
   "source": [
    "from itertools import product\n",
    "\n",
    "interpretaciones = list(product([True,False], [True,False] ))\n",
    "L = {'p': False, 'q': True}\n",
    "\n",
    "casito1 = \"(-pOq)\"\n",
    "\n",
    "arbolito1 = inorder_to_tree(casito1).valor(L)\n",
    "print(arbolito1)\n"
   ]
  },
  {
   "cell_type": "markdown",
   "metadata": {},
   "source": [
    "---"
   ]
  },
  {
   "cell_type": "markdown",
   "metadata": {},
   "source": [
    "# Sección opcional: Comparación empírica de tiempos <a class=\"anchor\" id=\"comp\"></a>\n",
    "\n",
    "\n",
    "([Volver al inicio](#inicio))\n",
    "\n",
    "La eficiencia de los algoritmos es un tema central en la ciencia de la computación. Esta eficiencia se estudia usalmente de manera teórica, respecto al tiempo y memoria que consume una implementación computacional al correr un algoritmo respecto a varios tipos de entradas. En este curso seguiremos un enfoque empírico para evaluar la eficiencia de los algoritmos. Este enfoque no reemplaza el teórico y es sólo una aproximación al mismo. \n",
    "\n",
    "Lo que deseamos hacer es evaluar los tiempos que le lleva al computador ejecutar alguno de nuestros algoritmos sobre una colección de entradas. En este caso particular, como tenemos dos funciones que realizan el mismo procedimiento, resulta interesante evaluar de manera empírica cuál de las dos es más rápida. \n",
    "\n",
    "Observe que medir los tiempos del computador no es el enfoque más apropiado para considerar la eficiencia, pero de todas maneras resulta útil. Para realizar esto debemos tener presente que el computador es una pieza de hardware cuyos tiempos de funcionamiento dependen de muchas cosas (nivel de energía, estado del hardware, etc.). Además, un computador realiza muchas tareas al mismo tiempo. En consecuencia, medir los tiempos del computador para evaluar una función requiere tratar de cancelar todo este ruido alrededor. Una manera de hacerlo es obtener varias mediciones del mismo proceso, y luego comparar promedios de tiempos. Esto es lo que realizaremos a continuación. \n",
    "\n",
    "Creamos primero una función que obtiene una lista con varias mediciones del tiempo de ejecución de una función. Analice la siguiente celda hasta que se sienta satisfecho con su comprensión del código:"
   ]
  },
  {
   "cell_type": "code",
   "execution_count": null,
   "metadata": {},
   "outputs": [],
   "source": [
    "from time import time\n",
    "\n",
    "def obtiene_tiempos(fun, args, num_it=100):\n",
    "    tiempos_fun = []\n",
    "    for i in range(num_it):\n",
    "        arranca = time()\n",
    "        x = fun(*args)\n",
    "        para = time()\n",
    "        tiempos_fun.append(para - arranca)\n",
    "    return tiempos_fun"
   ]
  },
  {
   "cell_type": "markdown",
   "metadata": {},
   "source": [
    "Ahora debemos considerar la evaluación del valor de verdad de una variable booleana como una función cuyo argumento son valores de verdad:"
   ]
  },
  {
   "cell_type": "code",
   "execution_count": null,
   "metadata": {},
   "outputs": [],
   "source": [
    "vals = [True, False, True]\n",
    "fun1 = lambda p, q, r: not (p and q) or r"
   ]
  },
  {
   "cell_type": "markdown",
   "metadata": {},
   "source": [
    "También debemos ver el método `valor` de las fórmulas como una función que toma como argumento una fórmula y una función de interpretación: "
   ]
  },
  {
   "cell_type": "code",
   "execution_count": null,
   "metadata": {},
   "outputs": [],
   "source": [
    "cadena = '(-(pYq)Or)'\n",
    "A = inorder_to_tree(cadena)\n",
    "I = {'p':True, 'q':False, 'r':True}\n",
    "fun2 = lambda A, I: A.valor(I)"
   ]
  },
  {
   "cell_type": "markdown",
   "metadata": {},
   "source": [
    "Ahora creamos una función que compare estos tiempos, nos presente un histograma de ellos y realice la prueba estadística de diferencia de medias:"
   ]
  },
  {
   "cell_type": "code",
   "execution_count": null,
   "metadata": {},
   "outputs": [
    {
     "ename": "ModuleNotFoundError",
     "evalue": "No module named 'matplotlib'",
     "output_type": "error",
     "traceback": [
      "\u001b[0;31m---------------------------------------------------------------------------\u001b[0m",
      "\u001b[0;31mModuleNotFoundError\u001b[0m                       Traceback (most recent call last)",
      "Cell \u001b[0;32mIn[40], line 1\u001b[0m\n\u001b[0;32m----> 1\u001b[0m \u001b[39mimport\u001b[39;00m \u001b[39mmatplotlib\u001b[39;00m\u001b[39m.\u001b[39;00m\u001b[39mpyplot\u001b[39;00m \u001b[39mas\u001b[39;00m \u001b[39mplt\u001b[39;00m\n\u001b[1;32m      2\u001b[0m \u001b[39mimport\u001b[39;00m \u001b[39mseaborn\u001b[39;00m \u001b[39mas\u001b[39;00m \u001b[39msns\u001b[39;00m\n\u001b[1;32m      3\u001b[0m \u001b[39mfrom\u001b[39;00m \u001b[39mscipy\u001b[39;00m\u001b[39m.\u001b[39;00m\u001b[39mstats\u001b[39;00m \u001b[39mimport\u001b[39;00m ttest_ind\n",
      "\u001b[0;31mModuleNotFoundError\u001b[0m: No module named 'matplotlib'"
     ]
    }
   ],
   "source": [
    "import matplotlib.pyplot as plt\n",
    "import seaborn as sns\n",
    "from scipy.stats import ttest_ind\n",
    "from numpy import mean\n",
    "\n",
    "def compara_funciones(fun1, fun2, args1, args2, N=100, equal_var=False):\n",
    "    t1 = obtiene_tiempos(fun1, args1, N)\n",
    "    t2 = obtiene_tiempos(fun2, args2, N)\n",
    "    fig, ax = plt.subplots(1,2, figsize=(6,3), tight_layout=True)\n",
    "    sns.histplot(t1, kde=True, ax=ax[0])\n",
    "    sns.histplot(t2, kde=True, ax=ax[1])\n",
    "    max1 = ax[0].get_xlim()[1]\n",
    "    max2 = ax[1].get_xlim()[1]\n",
    "    maximo = max(max1, max2)\n",
    "    ax[0].set_xlim(0,maximo)\n",
    "    ax[1].set_xlim(0,maximo)\n",
    "    print(f'tiempo promedio fun1: {mean(t1)}')\n",
    "    print(f'tiempo promedio fun2: {mean(t2)}')\n",
    "    print('H0: t1 == t2')\n",
    "    t, p = ttest_ind(t1, t2, equal_var=equal_var)\n",
    "    print(f't: {t}')\n",
    "    print(f'valor p: {p}')\n",
    "    plt.show()"
   ]
  },
  {
   "cell_type": "code",
   "execution_count": null,
   "metadata": {
    "scrolled": true
   },
   "outputs": [
    {
     "name": "stdout",
     "output_type": "stream",
     "text": [
      "tiempo promedio fun1: 4.792213439941406e-07\n",
      "tiempo promedio fun2: 3.719329833984375e-06\n",
      "H0: t1 == t2\n",
      "t: -16.324641808513206\n",
      "valor p: 1.0301563426339276e-31\n"
     ]
    },
    {
     "data": {
      "image/png": "[encoded data removed]",
      "text/plain": [
       "<Figure size 600x300 with 2 Axes>"
      ]
     },
     "metadata": {},
     "output_type": "display_data"
    }
   ],
   "source": [
    "compara_funciones(fun1, fun2, vals, [A,I])"
   ]
  },
  {
   "cell_type": "markdown",
   "metadata": {},
   "source": [
    "Con este sencillo ejercicio podemos ver que la evaluación de variables booleanas nativa de Python es más rápida que nuestro método `valor` para fórmulas. \n",
    "\n",
    "A pesar de ello, las diferencias no son muy considerables y el beneficio que obtenemos con nuestras fórmulas sobrepasa este pequeño costo en tiempos de ejecución. "
   ]
  },
  {
   "cell_type": "markdown",
   "metadata": {},
   "source": [
    "---"
   ]
  }
 ],
 "metadata": {
  "kernelspec": {
   "display_name": "Python 3",
   "language": "python",
   "name": "python3"
  },
  "language_info": {
   "codemirror_mode": {
    "name": "ipython",
    "version": 3
   },
   "file_extension": ".py",
   "mimetype": "text/x-python",
   "name": "python",
   "nbconvert_exporter": "python",
   "pygments_lexer": "ipython3",
   "version": "3.11.0"
  },
  "vscode": {
   "interpreter": {
    "hash": "1a1af0ee75eeea9e2e1ee996c87e7a2b11a0bebd85af04bb136d915cefc0abce"
   }
  }
 },
 "nbformat": 4,
 "nbformat_minor": 4
}
